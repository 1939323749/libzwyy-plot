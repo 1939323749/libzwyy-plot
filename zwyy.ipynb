{
 "cells": [
  {
   "cell_type": "code",
   "execution_count": 9,
   "metadata": {},
   "outputs": [],
   "source": [
    "import requests\n",
    "import json\n",
    "import re\n",
    "import pandas as pd\n",
    "from datetime import datetime\n",
    "import matplotlib.pyplot as plt\n",
    "import numpy as np\n",
    "import plotly.graph_objs as go\n",
    "from plotly.subplots import make_subplots"
   ]
  },
  {
   "attachments": {},
   "cell_type": "markdown",
   "metadata": {},
   "source": [
    "默认方式:"
   ]
  },
  {
   "cell_type": "code",
   "execution_count": 10,
   "metadata": {},
   "outputs": [],
   "source": [
    "curl = input(\"请输入curl命令：\")"
   ]
  },
  {
   "attachments": {},
   "cell_type": "markdown",
   "metadata": {},
   "source": [
    "需要先运行init.ipynb:"
   ]
  },
  {
   "cell_type": "code",
   "execution_count": 22,
   "metadata": {},
   "outputs": [],
   "source": [
    "# with open(\"tokens.txt\", \"r\") as token_file:\n",
    "#     curl=token_file.readline().strip()"
   ]
  },
  {
   "cell_type": "code",
   "execution_count": 23,
   "metadata": {},
   "outputs": [],
   "source": [
    "token_match = re.search(r'token:\\s*([a-zA-Z0-9]+)', curl)\n",
    "ic_cookie_match = re.search(r'ic-cookie=([a-zA-Z0-9-]+)', curl)\n",
    "token = token_match.group(1)\n",
    "ic_cookie = ic_cookie_match.group(1)\n"
   ]
  },
  {
   "cell_type": "code",
   "execution_count": 24,
   "metadata": {},
   "outputs": [],
   "source": [
    "datetime_now = datetime.now().strftime('%Y%m%d')\n",
    "datetime_now=datetime_now.replace('28','29')"
   ]
  },
  {
   "cell_type": "code",
   "execution_count": 25,
   "metadata": {},
   "outputs": [],
   "source": [
    "url = 'http://libzwyy.jlu.edu.cn/ic-web/seatMenu'\n",
    "\n",
    "headers = {\n",
    "    'token': token,\n",
    "}\n",
    "\n",
    "cookies = {\n",
    "    'ic-cookie': ic_cookie,\n",
    "}\n",
    "\n",
    "response = requests.get(url, headers=headers, cookies=cookies)\n",
    "data_dict = json.loads(response.text)\n",
    "learning_space_ids = []\n",
    "\n",
    "def extract_ids(space, floor_name):\n",
    "    if \"children\" in space:\n",
    "        for child in space[\"children\"]:\n",
    "            learning_space_ids.append([floor_name + \" - \" + child[\"name\"], child[\"id\"]])\n",
    "\n",
    "for floor in data_dict[\"data\"]:\n",
    "    extract_ids(floor, floor[\"name\"])"
   ]
  },
  {
   "cell_type": "code",
   "execution_count": 26,
   "metadata": {},
   "outputs": [
    {
     "data": {
      "application/vnd.jupyter.widget-view+json": {
       "model_id": "6e974f8892e44ec9b3de53f1768632c5",
       "version_major": 2,
       "version_minor": 0
      },
      "text/plain": [
       "interactive(children=(Dropdown(description='selected_option', options=(['二层 - 开放式学习空间B', 100652799], ['三层 - 图书…"
      ]
     },
     "metadata": {},
     "output_type": "display_data"
    }
   ],
   "source": [
    "import ipywidgets as widgets\n",
    "from IPython.display import display\n",
    "\n",
    "def on_change(selected_option):\n",
    "    global option_value\n",
    "    option_value = selected_option\n",
    "    print(f\"您选择的是: {selected_option}\")\n",
    "\n",
    "options = learning_space_ids\n",
    "\n",
    "dropdown = widgets.interact(on_change, selected_option=options)"
   ]
  },
  {
   "cell_type": "code",
   "execution_count": 33,
   "metadata": {},
   "outputs": [],
   "source": [
    "url = 'http://libzwyy.jlu.edu.cn/ic-web/reserve?roomIds='+str(option_value)+'&resvDates='+datetime_now+'&sysKind=8'\n",
    "\n",
    "response = requests.get(url, headers=headers, cookies=cookies)\n",
    "\n",
    "if response.status_code == 200:\n",
    "    data = json.loads(response.text)\n",
    "    devices_data = data[\"data\"]\n",
    "else:\n",
    "    print(f\"Error: Request failed with status code {response.status_code}\")"
   ]
  },
  {
   "cell_type": "code",
   "execution_count": 34,
   "metadata": {},
   "outputs": [],
   "source": [
    "# 提取 devName、startTime 和 endTime\n",
    "table_data = []\n",
    "\n",
    "for device in devices_data:\n",
    "    dev_name = device[\"devName\"]\n",
    "    resv_info = device[\"resvInfo\"]\n",
    "    if len(resv_info) == 0:\n",
    "        table_data.append([dev_name, datetime.now().strftime('%Y-%m-%d %H:%M:%S'), datetime.now().strftime('%Y-%m-%d %H:%M:%S')])\n",
    "    for resv in resv_info:\n",
    "        start_time = datetime.fromtimestamp(resv[\"startTime\"] / 1000).strftime('%Y-%m-%d %H:%M:%S')\n",
    "        end_time = datetime.fromtimestamp(resv[\"endTime\"] / 1000).strftime('%Y-%m-%d %H:%M:%S')\n",
    "        table_data.append([dev_name, start_time, end_time])"
   ]
  },
  {
   "cell_type": "code",
   "execution_count": 35,
   "metadata": {},
   "outputs": [],
   "source": [
    "# 使用 pandas 创建 DataFrame\n",
    "columns = [\"devName\", \"startTime\", \"endTime\"]\n",
    "df = pd.DataFrame(table_data, columns=columns)"
   ]
  },
  {
   "cell_type": "code",
   "execution_count": 36,
   "metadata": {},
   "outputs": [],
   "source": [
    "df[\"startTime\"] = pd.to_datetime(df[\"startTime\"])\n",
    "df[\"endTime\"] = pd.to_datetime(df[\"endTime\"])\n",
    "df['duration'] = (df['endTime'] - df['startTime']).dt.seconds / 3600"
   ]
  },
  {
   "cell_type": "code",
   "execution_count": 38,
   "metadata": {},
   "outputs": [
    {
     "data": {
      "application/vnd.plotly.v1+json": {
       "config": {
        "plotlyServerURL": "https://plot.ly"
       },
       "data": [
        {
         "line": {
          "color": "orange",
          "width": 10
         },
         "mode": "lines",
         "showlegend": false,
         "type": "scatter",
         "x": [
          "2023-06-29T10:00:00",
          "2023-06-29T15:30:00"
         ],
         "y": [
          0,
          0
         ]
        },
        {
         "line": {
          "color": "orange",
          "width": 10
         },
         "mode": "lines",
         "showlegend": false,
         "type": "scatter",
         "x": [
          "2023-06-29T15:30:00",
          "2023-06-29T21:10:00"
         ],
         "y": [
          0,
          0
         ]
        },
        {
         "line": {
          "color": "orange",
          "width": 10
         },
         "mode": "lines",
         "showlegend": false,
         "type": "scatter",
         "x": [
          "2023-06-29T08:00:00",
          "2023-06-29T21:00:00"
         ],
         "y": [
          1,
          1
         ]
        },
        {
         "line": {
          "color": "orange",
          "width": 10
         },
         "mode": "lines",
         "showlegend": false,
         "type": "scatter",
         "x": [
          "2023-06-29T08:40:00",
          "2023-06-29T22:00:00"
         ],
         "y": [
          2,
          2
         ]
        },
        {
         "line": {
          "color": "orange",
          "width": 10
         },
         "mode": "lines",
         "showlegend": false,
         "type": "scatter",
         "x": [
          "2023-06-29T08:00:00",
          "2023-06-29T14:30:00"
         ],
         "y": [
          3,
          3
         ]
        },
        {
         "line": {
          "color": "orange",
          "width": 10
         },
         "mode": "lines",
         "showlegend": false,
         "type": "scatter",
         "x": [
          "2023-06-29T14:30:00",
          "2023-06-29T22:00:00"
         ],
         "y": [
          3,
          3
         ]
        },
        {
         "line": {
          "color": "orange",
          "width": 10
         },
         "mode": "lines",
         "showlegend": false,
         "type": "scatter",
         "x": [
          "2023-06-29T08:30:00",
          "2023-06-29T22:00:00"
         ],
         "y": [
          4,
          4
         ]
        },
        {
         "line": {
          "color": "orange",
          "width": 10
         },
         "mode": "lines",
         "showlegend": false,
         "type": "scatter",
         "x": [
          "2023-06-29T07:30:00",
          "2023-06-29T22:00:00"
         ],
         "y": [
          5,
          5
         ]
        },
        {
         "line": {
          "color": "orange",
          "width": 10
         },
         "mode": "lines",
         "showlegend": false,
         "type": "scatter",
         "x": [
          "2023-06-29T13:30:00",
          "2023-06-29T22:00:00"
         ],
         "y": [
          6,
          6
         ]
        },
        {
         "line": {
          "color": "orange",
          "width": 10
         },
         "mode": "lines",
         "showlegend": false,
         "type": "scatter",
         "x": [
          "2023-06-29T10:00:00",
          "2023-06-29T22:00:00"
         ],
         "y": [
          7,
          7
         ]
        },
        {
         "line": {
          "color": "orange",
          "width": 10
         },
         "mode": "lines",
         "showlegend": false,
         "type": "scatter",
         "x": [
          "2023-06-29T08:30:00",
          "2023-06-29T22:00:00"
         ],
         "y": [
          8,
          8
         ]
        },
        {
         "line": {
          "color": "orange",
          "width": 10
         },
         "mode": "lines",
         "showlegend": false,
         "type": "scatter",
         "x": [
          "2023-06-29T09:00:00",
          "2023-06-29T22:00:00"
         ],
         "y": [
          9,
          9
         ]
        },
        {
         "line": {
          "color": "orange",
          "width": 10
         },
         "mode": "lines",
         "showlegend": false,
         "type": "scatter",
         "x": [
          "2023-06-29T12:20:00",
          "2023-06-29T14:40:00"
         ],
         "y": [
          10,
          10
         ]
        },
        {
         "line": {
          "color": "orange",
          "width": 10
         },
         "mode": "lines",
         "showlegend": false,
         "type": "scatter",
         "x": [
          "2023-06-29T14:40:00",
          "2023-06-29T22:00:00"
         ],
         "y": [
          10,
          10
         ]
        },
        {
         "line": {
          "color": "orange",
          "width": 10
         },
         "mode": "lines",
         "showlegend": false,
         "type": "scatter",
         "x": [
          "2023-06-29T09:30:00",
          "2023-06-29T21:10:00"
         ],
         "y": [
          11,
          11
         ]
        },
        {
         "line": {
          "color": "orange",
          "width": 10
         },
         "mode": "lines",
         "showlegend": false,
         "type": "scatter",
         "x": [
          "2023-06-29T08:00:00",
          "2023-06-29T22:00:00"
         ],
         "y": [
          12,
          12
         ]
        },
        {
         "line": {
          "color": "orange",
          "width": 10
         },
         "mode": "lines",
         "showlegend": false,
         "type": "scatter",
         "x": [
          "2023-06-29T13:00:00",
          "2023-06-29T22:00:00"
         ],
         "y": [
          13,
          13
         ]
        },
        {
         "line": {
          "color": "orange",
          "width": 10
         },
         "mode": "lines",
         "showlegend": false,
         "type": "scatter",
         "x": [
          "2023-06-29T09:00:00",
          "2023-06-29T22:00:00"
         ],
         "y": [
          14,
          14
         ]
        },
        {
         "line": {
          "color": "orange",
          "width": 10
         },
         "mode": "lines",
         "showlegend": false,
         "type": "scatter",
         "x": [
          "2023-06-29T13:00:00",
          "2023-06-29T22:00:00"
         ],
         "y": [
          15,
          15
         ]
        },
        {
         "line": {
          "color": "orange",
          "width": 10
         },
         "mode": "lines",
         "showlegend": false,
         "type": "scatter",
         "x": [
          "2023-06-29T12:20:00",
          "2023-06-29T22:00:00"
         ],
         "y": [
          16,
          16
         ]
        },
        {
         "line": {
          "color": "orange",
          "width": 10
         },
         "mode": "lines",
         "showlegend": false,
         "type": "scatter",
         "x": [
          "2023-06-29T09:30:00",
          "2023-06-29T22:00:00"
         ],
         "y": [
          17,
          17
         ]
        },
        {
         "line": {
          "color": "orange",
          "width": 10
         },
         "mode": "lines",
         "showlegend": false,
         "type": "scatter",
         "x": [
          "2023-06-29T07:40:00",
          "2023-06-29T22:00:00"
         ],
         "y": [
          18,
          18
         ]
        },
        {
         "line": {
          "color": "orange",
          "width": 10
         },
         "mode": "lines",
         "showlegend": false,
         "type": "scatter",
         "x": [
          "2023-06-29T15:00:00",
          "2023-06-29T22:00:00"
         ],
         "y": [
          19,
          19
         ]
        },
        {
         "line": {
          "color": "orange",
          "width": 10
         },
         "mode": "lines",
         "showlegend": false,
         "type": "scatter",
         "x": [
          "2023-06-29T11:00:00",
          "2023-06-29T22:00:00"
         ],
         "y": [
          20,
          20
         ]
        },
        {
         "line": {
          "color": "orange",
          "width": 10
         },
         "mode": "lines",
         "showlegend": false,
         "type": "scatter",
         "x": [
          "2023-06-29T16:00:00",
          "2023-06-29T22:00:00"
         ],
         "y": [
          21,
          21
         ]
        },
        {
         "line": {
          "color": "orange",
          "width": 10
         },
         "mode": "lines",
         "showlegend": false,
         "type": "scatter",
         "x": [
          "2023-06-29T07:40:00",
          "2023-06-29T22:00:00"
         ],
         "y": [
          22,
          22
         ]
        },
        {
         "line": {
          "color": "orange",
          "width": 10
         },
         "mode": "lines",
         "showlegend": false,
         "type": "scatter",
         "x": [
          "2023-06-29T10:00:00",
          "2023-06-29T15:20:00"
         ],
         "y": [
          23,
          23
         ]
        },
        {
         "line": {
          "color": "orange",
          "width": 10
         },
         "mode": "lines",
         "showlegend": false,
         "type": "scatter",
         "x": [
          "2023-06-29T15:30:00",
          "2023-06-29T21:10:00"
         ],
         "y": [
          23,
          23
         ]
        },
        {
         "line": {
          "color": "orange",
          "width": 10
         },
         "mode": "lines",
         "showlegend": false,
         "type": "scatter",
         "x": [
          "2023-06-29T08:40:00",
          "2023-06-29T21:10:00"
         ],
         "y": [
          24,
          24
         ]
        },
        {
         "line": {
          "color": "orange",
          "width": 10
         },
         "mode": "lines",
         "showlegend": false,
         "type": "scatter",
         "x": [
          "2023-06-29T09:10:00",
          "2023-06-29T22:00:00"
         ],
         "y": [
          25,
          25
         ]
        },
        {
         "line": {
          "color": "orange",
          "width": 10
         },
         "mode": "lines",
         "showlegend": false,
         "type": "scatter",
         "x": [
          "2023-06-29T09:30:00",
          "2023-06-29T22:00:00"
         ],
         "y": [
          26,
          26
         ]
        },
        {
         "line": {
          "color": "orange",
          "width": 10
         },
         "mode": "lines",
         "showlegend": false,
         "type": "scatter",
         "x": [
          "2023-06-29T13:00:00",
          "2023-06-29T15:50:00"
         ],
         "y": [
          27,
          27
         ]
        },
        {
         "line": {
          "color": "orange",
          "width": 10
         },
         "mode": "lines",
         "showlegend": false,
         "type": "scatter",
         "x": [
          "2023-06-29T16:00:00",
          "2023-06-29T21:10:00"
         ],
         "y": [
          27,
          27
         ]
        },
        {
         "line": {
          "color": "orange",
          "width": 10
         },
         "mode": "lines",
         "showlegend": false,
         "type": "scatter",
         "x": [
          "2023-06-29T13:40:00",
          "2023-06-29T22:00:00"
         ],
         "y": [
          28,
          28
         ]
        },
        {
         "line": {
          "color": "orange",
          "width": 10
         },
         "mode": "lines",
         "showlegend": false,
         "type": "scatter",
         "x": [
          "2023-06-29T08:30:00",
          "2023-06-29T17:00:00"
         ],
         "y": [
          29,
          29
         ]
        },
        {
         "line": {
          "color": "orange",
          "width": 10
         },
         "mode": "lines",
         "showlegend": false,
         "type": "scatter",
         "x": [
          "2023-06-29T19:00:00",
          "2023-06-29T22:00:00"
         ],
         "y": [
          29,
          29
         ]
        },
        {
         "line": {
          "color": "orange",
          "width": 10
         },
         "mode": "lines",
         "showlegend": false,
         "type": "scatter",
         "x": [
          "2023-06-29T12:00:00",
          "2023-06-29T21:10:00"
         ],
         "y": [
          30,
          30
         ]
        },
        {
         "line": {
          "color": "orange",
          "width": 10
         },
         "mode": "lines",
         "showlegend": false,
         "type": "scatter",
         "x": [
          "2023-06-29T06:30:00",
          "2023-06-29T22:00:00"
         ],
         "y": [
          31,
          31
         ]
        },
        {
         "line": {
          "color": "orange",
          "width": 10
         },
         "mode": "lines",
         "showlegend": false,
         "type": "scatter",
         "x": [
          "2023-06-29T08:30:00",
          "2023-06-29T21:10:00"
         ],
         "y": [
          32,
          32
         ]
        },
        {
         "line": {
          "color": "orange",
          "width": 10
         },
         "mode": "lines",
         "showlegend": false,
         "type": "scatter",
         "x": [
          "2023-06-29T15:00:00",
          "2023-06-29T22:00:00"
         ],
         "y": [
          33,
          33
         ]
        },
        {
         "line": {
          "color": "orange",
          "width": 10
         },
         "mode": "lines",
         "showlegend": false,
         "type": "scatter",
         "x": [
          "2023-06-29T08:30:00",
          "2023-06-29T21:10:00"
         ],
         "y": [
          34,
          34
         ]
        },
        {
         "line": {
          "color": "orange",
          "width": 10
         },
         "mode": "lines",
         "showlegend": false,
         "type": "scatter",
         "x": [
          "2023-06-29T08:30:00",
          "2023-06-29T17:00:00"
         ],
         "y": [
          35,
          35
         ]
        },
        {
         "line": {
          "color": "orange",
          "width": 10
         },
         "mode": "lines",
         "showlegend": false,
         "type": "scatter",
         "x": [
          "2023-06-29T17:00:00",
          "2023-06-29T22:00:00"
         ],
         "y": [
          35,
          35
         ]
        },
        {
         "line": {
          "color": "orange",
          "width": 10
         },
         "mode": "lines",
         "showlegend": false,
         "type": "scatter",
         "x": [
          "2023-06-29T13:00:00",
          "2023-06-29T22:00:00"
         ],
         "y": [
          36,
          36
         ]
        },
        {
         "line": {
          "color": "orange",
          "width": 10
         },
         "mode": "lines",
         "showlegend": false,
         "type": "scatter",
         "x": [
          "2023-06-29T07:30:00",
          "2023-06-29T21:10:00"
         ],
         "y": [
          37,
          37
         ]
        },
        {
         "line": {
          "color": "orange",
          "width": 10
         },
         "mode": "lines",
         "showlegend": false,
         "type": "scatter",
         "x": [
          "2023-06-29T13:30:00",
          "2023-06-29T22:00:00"
         ],
         "y": [
          38,
          38
         ]
        },
        {
         "line": {
          "color": "orange",
          "width": 10
         },
         "mode": "lines",
         "showlegend": false,
         "type": "scatter",
         "x": [
          "2023-06-29T14:30:00",
          "2023-06-29T22:00:00"
         ],
         "y": [
          39,
          39
         ]
        },
        {
         "line": {
          "color": "orange",
          "width": 10
         },
         "mode": "lines",
         "showlegend": false,
         "type": "scatter",
         "x": [
          "2023-06-29T13:00:00",
          "2023-06-29T22:00:00"
         ],
         "y": [
          40,
          40
         ]
        },
        {
         "line": {
          "color": "orange",
          "width": 10
         },
         "mode": "lines",
         "showlegend": false,
         "type": "scatter",
         "x": [
          "2023-06-29T08:50:00",
          "2023-06-29T22:00:00"
         ],
         "y": [
          41,
          41
         ]
        },
        {
         "line": {
          "color": "orange",
          "width": 10
         },
         "mode": "lines",
         "showlegend": false,
         "type": "scatter",
         "x": [
          "2023-06-29T13:30:00",
          "2023-06-29T21:10:00"
         ],
         "y": [
          42,
          42
         ]
        },
        {
         "line": {
          "color": "orange",
          "width": 10
         },
         "mode": "lines",
         "showlegend": false,
         "type": "scatter",
         "x": [
          "2023-06-29T08:30:00",
          "2023-06-29T22:00:00"
         ],
         "y": [
          43,
          43
         ]
        },
        {
         "line": {
          "color": "orange",
          "width": 10
         },
         "mode": "lines",
         "showlegend": false,
         "type": "scatter",
         "x": [
          "2023-06-29T10:30:00",
          "2023-06-29T22:00:00"
         ],
         "y": [
          44,
          44
         ]
        },
        {
         "line": {
          "color": "orange",
          "width": 10
         },
         "mode": "lines",
         "showlegend": false,
         "type": "scatter",
         "x": [
          "2023-06-29T09:30:00",
          "2023-06-29T21:10:00"
         ],
         "y": [
          45,
          45
         ]
        },
        {
         "line": {
          "color": "orange",
          "width": 10
         },
         "mode": "lines",
         "showlegend": false,
         "type": "scatter",
         "x": [
          "2023-06-29T09:30:00",
          "2023-06-29T22:00:00"
         ],
         "y": [
          46,
          46
         ]
        },
        {
         "line": {
          "color": "orange",
          "width": 10
         },
         "mode": "lines",
         "showlegend": false,
         "type": "scatter",
         "x": [
          "2023-06-29T09:30:00",
          "2023-06-29T21:10:00"
         ],
         "y": [
          47,
          47
         ]
        },
        {
         "line": {
          "color": "orange",
          "width": 10
         },
         "mode": "lines",
         "showlegend": false,
         "type": "scatter",
         "x": [
          "2023-06-29T13:30:00",
          "2023-06-29T22:00:00"
         ],
         "y": [
          48,
          48
         ]
        },
        {
         "line": {
          "color": "orange",
          "width": 10
         },
         "mode": "lines",
         "showlegend": false,
         "type": "scatter",
         "x": [
          "2023-06-29T10:00:00",
          "2023-06-29T22:00:00"
         ],
         "y": [
          49,
          49
         ]
        },
        {
         "line": {
          "color": "orange",
          "width": 10
         },
         "mode": "lines",
         "showlegend": false,
         "type": "scatter",
         "x": [
          "2023-06-29T08:30:00",
          "2023-06-29T17:50:00"
         ],
         "y": [
          50,
          50
         ]
        },
        {
         "line": {
          "color": "orange",
          "width": 10
         },
         "mode": "lines",
         "showlegend": false,
         "type": "scatter",
         "x": [
          "2023-06-29T09:40:00",
          "2023-06-29T22:00:00"
         ],
         "y": [
          51,
          51
         ]
        },
        {
         "line": {
          "color": "orange",
          "width": 10
         },
         "mode": "lines",
         "showlegend": false,
         "type": "scatter",
         "x": [
          "2023-06-29T08:43:00",
          "2023-06-29T15:30:00"
         ],
         "y": [
          52,
          52
         ]
        },
        {
         "line": {
          "color": "orange",
          "width": 10
         },
         "mode": "lines",
         "showlegend": false,
         "type": "scatter",
         "x": [
          "2023-06-29T15:30:00",
          "2023-06-29T22:00:00"
         ],
         "y": [
          52,
          52
         ]
        },
        {
         "line": {
          "color": "orange",
          "width": 10
         },
         "mode": "lines",
         "showlegend": false,
         "type": "scatter",
         "x": [
          "2023-06-29T09:00:00",
          "2023-06-29T22:00:00"
         ],
         "y": [
          53,
          53
         ]
        },
        {
         "line": {
          "color": "orange",
          "width": 10
         },
         "mode": "lines",
         "showlegend": false,
         "type": "scatter",
         "x": [
          "2023-06-29T12:50:00",
          "2023-06-29T22:00:00"
         ],
         "y": [
          54,
          54
         ]
        },
        {
         "line": {
          "color": "orange",
          "width": 10
         },
         "mode": "lines",
         "showlegend": false,
         "type": "scatter",
         "x": [
          "2023-06-29T10:00:00",
          "2023-06-29T22:00:00"
         ],
         "y": [
          55,
          55
         ]
        },
        {
         "line": {
          "color": "orange",
          "width": 10
         },
         "mode": "lines",
         "showlegend": false,
         "type": "scatter",
         "x": [
          "2023-06-29T09:20:00",
          "2023-06-29T22:00:00"
         ],
         "y": [
          56,
          56
         ]
        },
        {
         "line": {
          "color": "orange",
          "width": 10
         },
         "mode": "lines",
         "showlegend": false,
         "type": "scatter",
         "x": [
          "2023-06-29T09:00:00",
          "2023-06-29T22:00:00"
         ],
         "y": [
          57,
          57
         ]
        },
        {
         "line": {
          "color": "orange",
          "width": 10
         },
         "mode": "lines",
         "showlegend": false,
         "type": "scatter",
         "x": [
          "2023-06-29T13:30:00",
          "2023-06-29T22:00:00"
         ],
         "y": [
          58,
          58
         ]
        },
        {
         "line": {
          "color": "orange",
          "width": 10
         },
         "mode": "lines",
         "showlegend": false,
         "type": "scatter",
         "x": [
          "2023-06-29T12:40:00",
          "2023-06-29T22:00:00"
         ],
         "y": [
          59,
          59
         ]
        },
        {
         "line": {
          "color": "orange",
          "width": 10
         },
         "mode": "lines",
         "showlegend": false,
         "type": "scatter",
         "x": [
          "2023-06-29T08:00:00",
          "2023-06-29T22:00:00"
         ],
         "y": [
          60,
          60
         ]
        },
        {
         "line": {
          "color": "orange",
          "width": 10
         },
         "mode": "lines",
         "showlegend": false,
         "type": "scatter",
         "x": [
          "2023-06-29T11:20:00",
          "2023-06-29T18:10:00"
         ],
         "y": [
          61,
          61
         ]
        },
        {
         "line": {
          "color": "orange",
          "width": 10
         },
         "mode": "lines",
         "showlegend": false,
         "type": "scatter",
         "x": [
          "2023-06-29T18:10:00",
          "2023-06-29T22:00:00"
         ],
         "y": [
          61,
          61
         ]
        },
        {
         "line": {
          "color": "orange",
          "width": 10
         },
         "mode": "lines",
         "showlegend": false,
         "type": "scatter",
         "x": [
          "2023-06-29T14:00:00",
          "2023-06-29T21:10:00"
         ],
         "y": [
          62,
          62
         ]
        },
        {
         "line": {
          "color": "orange",
          "width": 10
         },
         "mode": "lines",
         "showlegend": false,
         "type": "scatter",
         "x": [
          "2023-06-29T13:20:00",
          "2023-06-29T22:00:00"
         ],
         "y": [
          63,
          63
         ]
        },
        {
         "line": {
          "color": "orange",
          "width": 10
         },
         "mode": "lines",
         "showlegend": false,
         "type": "scatter",
         "x": [
          "2023-06-29T08:30:00",
          "2023-06-29T22:00:00"
         ],
         "y": [
          64,
          64
         ]
        },
        {
         "line": {
          "color": "orange",
          "width": 10
         },
         "mode": "lines",
         "showlegend": false,
         "type": "scatter",
         "x": [
          "2023-06-29T08:30:00",
          "2023-06-29T21:10:00"
         ],
         "y": [
          65,
          65
         ]
        },
        {
         "line": {
          "color": "orange",
          "width": 10
         },
         "mode": "lines",
         "showlegend": false,
         "type": "scatter",
         "x": [
          "2023-06-29T08:40:00",
          "2023-06-29T22:00:00"
         ],
         "y": [
          66,
          66
         ]
        },
        {
         "line": {
          "color": "orange",
          "width": 10
         },
         "mode": "lines",
         "showlegend": false,
         "type": "scatter",
         "x": [
          "2023-06-29T08:00:00",
          "2023-06-29T22:00:00"
         ],
         "y": [
          67,
          67
         ]
        },
        {
         "line": {
          "color": "orange",
          "width": 10
         },
         "mode": "lines",
         "showlegend": false,
         "type": "scatter",
         "x": [
          "2023-06-29T12:40:00",
          "2023-06-29T22:00:00"
         ],
         "y": [
          68,
          68
         ]
        },
        {
         "line": {
          "color": "orange",
          "width": 10
         },
         "mode": "lines",
         "showlegend": false,
         "type": "scatter",
         "x": [
          "2023-06-29T15:10:00",
          "2023-06-29T22:00:00"
         ],
         "y": [
          69,
          69
         ]
        },
        {
         "line": {
          "color": "orange",
          "width": 10
         },
         "mode": "lines",
         "showlegend": false,
         "type": "scatter",
         "x": [
          "2023-06-29T09:30:00",
          "2023-06-29T22:00:00"
         ],
         "y": [
          70,
          70
         ]
        },
        {
         "line": {
          "color": "orange",
          "width": 10
         },
         "mode": "lines",
         "showlegend": false,
         "type": "scatter",
         "x": [
          "2023-06-29T07:30:00",
          "2023-06-29T22:00:00"
         ],
         "y": [
          71,
          71
         ]
        },
        {
         "line": {
          "color": "orange",
          "width": 10
         },
         "mode": "lines",
         "showlegend": false,
         "type": "scatter",
         "x": [
          "2023-06-29T14:00:00",
          "2023-06-29T21:10:00"
         ],
         "y": [
          72,
          72
         ]
        },
        {
         "line": {
          "color": "orange",
          "width": 10
         },
         "mode": "lines",
         "showlegend": false,
         "type": "scatter",
         "x": [
          "2023-06-29T09:30:00",
          "2023-06-29T22:00:00"
         ],
         "y": [
          73,
          73
         ]
        },
        {
         "line": {
          "color": "orange",
          "width": 10
         },
         "mode": "lines",
         "showlegend": false,
         "type": "scatter",
         "x": [
          "2023-06-29T12:01:00",
          "2023-06-29T17:50:00"
         ],
         "y": [
          74,
          74
         ]
        },
        {
         "line": {
          "color": "orange",
          "width": 10
         },
         "mode": "lines",
         "showlegend": false,
         "type": "scatter",
         "x": [
          "2023-06-29T17:50:00",
          "2023-06-29T22:00:00"
         ],
         "y": [
          74,
          74
         ]
        },
        {
         "line": {
          "color": "orange",
          "width": 10
         },
         "mode": "lines",
         "showlegend": false,
         "type": "scatter",
         "x": [
          "2023-06-29T12:00:00",
          "2023-06-29T16:30:00"
         ],
         "y": [
          75,
          75
         ]
        },
        {
         "line": {
          "color": "orange",
          "width": 10
         },
         "mode": "lines",
         "showlegend": false,
         "type": "scatter",
         "x": [
          "2023-06-29T16:30:00",
          "2023-06-29T22:00:00"
         ],
         "y": [
          75,
          75
         ]
        },
        {
         "line": {
          "color": "orange",
          "width": 10
         },
         "mode": "lines",
         "showlegend": false,
         "type": "scatter",
         "x": [
          "2023-06-29T07:30:00",
          "2023-06-29T22:00:00"
         ],
         "y": [
          76,
          76
         ]
        },
        {
         "line": {
          "color": "orange",
          "width": 10
         },
         "mode": "lines",
         "showlegend": false,
         "type": "scatter",
         "x": [
          "2023-06-29T12:00:00",
          "2023-06-29T22:00:00"
         ],
         "y": [
          77,
          77
         ]
        },
        {
         "line": {
          "color": "orange",
          "width": 10
         },
         "mode": "lines",
         "showlegend": false,
         "type": "scatter",
         "x": [
          "2023-06-29T12:00:00",
          "2023-06-29T21:10:00"
         ],
         "y": [
          78,
          78
         ]
        },
        {
         "line": {
          "color": "orange",
          "width": 10
         },
         "mode": "lines",
         "showlegend": false,
         "type": "scatter",
         "x": [
          "2023-06-29T08:00:00",
          "2023-06-29T15:00:00"
         ],
         "y": [
          79,
          79
         ]
        },
        {
         "line": {
          "color": "orange",
          "width": 10
         },
         "mode": "lines",
         "showlegend": false,
         "type": "scatter",
         "x": [
          "2023-06-29T15:00:00",
          "2023-06-29T22:00:00"
         ],
         "y": [
          79,
          79
         ]
        },
        {
         "line": {
          "color": "orange",
          "width": 10
         },
         "mode": "lines",
         "showlegend": false,
         "type": "scatter",
         "x": [
          "2023-06-29T13:30:00",
          "2023-06-29T22:00:00"
         ],
         "y": [
          80,
          80
         ]
        },
        {
         "line": {
          "color": "orange",
          "width": 10
         },
         "mode": "lines",
         "showlegend": false,
         "type": "scatter",
         "x": [
          "2023-06-29T12:00:00",
          "2023-06-29T21:10:00"
         ],
         "y": [
          81,
          81
         ]
        },
        {
         "line": {
          "color": "orange",
          "width": 10
         },
         "mode": "lines",
         "showlegend": false,
         "type": "scatter",
         "x": [
          "2023-06-29T13:00:00",
          "2023-06-29T22:00:00"
         ],
         "y": [
          82,
          82
         ]
        },
        {
         "line": {
          "color": "orange",
          "width": 10
         },
         "mode": "lines",
         "showlegend": false,
         "type": "scatter",
         "x": [
          "2023-06-29T08:00:00",
          "2023-06-29T21:10:00"
         ],
         "y": [
          83,
          83
         ]
        },
        {
         "line": {
          "color": "orange",
          "width": 10
         },
         "mode": "lines",
         "showlegend": false,
         "type": "scatter",
         "x": [
          "2023-06-29T09:00:00",
          "2023-06-29T22:00:00"
         ],
         "y": [
          84,
          84
         ]
        },
        {
         "line": {
          "color": "orange",
          "width": 10
         },
         "mode": "lines",
         "showlegend": false,
         "type": "scatter",
         "x": [
          "2023-06-29T09:30:00",
          "2023-06-29T16:00:00"
         ],
         "y": [
          85,
          85
         ]
        },
        {
         "line": {
          "color": "orange",
          "width": 10
         },
         "mode": "lines",
         "showlegend": false,
         "type": "scatter",
         "x": [
          "2023-06-29T16:30:00",
          "2023-06-29T22:00:00"
         ],
         "y": [
          85,
          85
         ]
        },
        {
         "line": {
          "color": "orange",
          "width": 10
         },
         "mode": "lines",
         "showlegend": false,
         "type": "scatter",
         "x": [
          "2023-06-29T08:10:00",
          "2023-06-29T21:10:00"
         ],
         "y": [
          86,
          86
         ]
        },
        {
         "line": {
          "color": "orange",
          "width": 10
         },
         "mode": "lines",
         "showlegend": false,
         "type": "scatter",
         "x": [
          "2023-06-29T12:50:00",
          "2023-06-29T22:00:00"
         ],
         "y": [
          87,
          87
         ]
        },
        {
         "line": {
          "color": "orange",
          "width": 10
         },
         "mode": "lines",
         "showlegend": false,
         "type": "scatter",
         "x": [
          "2023-06-29T11:40:00",
          "2023-06-29T22:00:00"
         ],
         "y": [
          88,
          88
         ]
        },
        {
         "line": {
          "color": "orange",
          "width": 10
         },
         "mode": "lines",
         "showlegend": false,
         "type": "scatter",
         "x": [
          "2023-06-29T07:30:00",
          "2023-06-29T21:10:00"
         ],
         "y": [
          89,
          89
         ]
        },
        {
         "line": {
          "color": "orange",
          "width": 10
         },
         "mode": "lines",
         "showlegend": false,
         "type": "scatter",
         "x": [
          "2023-06-29T08:10:00",
          "2023-06-29T21:10:00"
         ],
         "y": [
          90,
          90
         ]
        },
        {
         "line": {
          "color": "orange",
          "width": 10
         },
         "mode": "lines",
         "showlegend": false,
         "type": "scatter",
         "x": [
          "2023-06-29T08:30:00",
          "2023-06-29T21:10:00"
         ],
         "y": [
          91,
          91
         ]
        },
        {
         "line": {
          "color": "orange",
          "width": 10
         },
         "mode": "lines",
         "showlegend": false,
         "type": "scatter",
         "x": [
          "2023-06-29T09:00:00",
          "2023-06-29T21:10:00"
         ],
         "y": [
          92,
          92
         ]
        },
        {
         "line": {
          "color": "orange",
          "width": 10
         },
         "mode": "lines",
         "showlegend": false,
         "type": "scatter",
         "x": [
          "2023-06-29T11:50:00",
          "2023-06-29T17:00:00"
         ],
         "y": [
          93,
          93
         ]
        },
        {
         "line": {
          "color": "orange",
          "width": 10
         },
         "mode": "lines",
         "showlegend": false,
         "type": "scatter",
         "x": [
          "2023-06-29T17:30:00",
          "2023-06-29T22:00:00"
         ],
         "y": [
          93,
          93
         ]
        },
        {
         "line": {
          "color": "orange",
          "width": 10
         },
         "mode": "lines",
         "showlegend": false,
         "type": "scatter",
         "x": [
          "2023-06-29T10:30:00",
          "2023-06-29T21:10:00"
         ],
         "y": [
          94,
          94
         ]
        },
        {
         "line": {
          "color": "orange",
          "width": 10
         },
         "mode": "lines",
         "showlegend": false,
         "type": "scatter",
         "x": [
          "2023-06-29T08:10:00",
          "2023-06-29T22:00:00"
         ],
         "y": [
          95,
          95
         ]
        },
        {
         "line": {
          "color": "orange",
          "width": 10
         },
         "mode": "lines",
         "showlegend": false,
         "type": "scatter",
         "x": [
          "2023-06-29T12:20:00",
          "2023-06-29T22:00:00"
         ],
         "y": [
          96,
          96
         ]
        },
        {
         "line": {
          "color": "orange",
          "width": 10
         },
         "mode": "lines",
         "showlegend": false,
         "type": "scatter",
         "x": [
          "2023-06-29T08:30:00",
          "2023-06-29T22:00:00"
         ],
         "y": [
          97,
          97
         ]
        },
        {
         "line": {
          "color": "orange",
          "width": 10
         },
         "mode": "lines",
         "showlegend": false,
         "type": "scatter",
         "x": [
          "2023-06-29T09:30:00",
          "2023-06-29T21:10:00"
         ],
         "y": [
          98,
          98
         ]
        },
        {
         "line": {
          "color": "orange",
          "width": 10
         },
         "mode": "lines",
         "showlegend": false,
         "type": "scatter",
         "x": [
          "2023-06-29T13:30:00",
          "2023-06-29T22:00:00"
         ],
         "y": [
          99,
          99
         ]
        },
        {
         "line": {
          "color": "orange",
          "width": 10
         },
         "mode": "lines",
         "showlegend": false,
         "type": "scatter",
         "x": [
          "2023-06-29T12:40:00",
          "2023-06-29T14:30:00"
         ],
         "y": [
          100,
          100
         ]
        },
        {
         "line": {
          "color": "orange",
          "width": 10
         },
         "mode": "lines",
         "showlegend": false,
         "type": "scatter",
         "x": [
          "2023-06-29T14:30:00",
          "2023-06-29T22:00:00"
         ],
         "y": [
          100,
          100
         ]
        },
        {
         "line": {
          "color": "orange",
          "width": 10
         },
         "mode": "lines",
         "showlegend": false,
         "type": "scatter",
         "x": [
          "2023-06-29T08:00:00",
          "2023-06-29T15:20:00"
         ],
         "y": [
          101,
          101
         ]
        },
        {
         "line": {
          "color": "orange",
          "width": 10
         },
         "mode": "lines",
         "showlegend": false,
         "type": "scatter",
         "x": [
          "2023-06-29T15:20:00",
          "2023-06-29T21:10:00"
         ],
         "y": [
          101,
          101
         ]
        },
        {
         "line": {
          "color": "orange",
          "width": 10
         },
         "mode": "lines",
         "showlegend": false,
         "type": "scatter",
         "x": [
          "2023-06-29T10:50:00",
          "2023-06-29T22:00:00"
         ],
         "y": [
          102,
          102
         ]
        },
        {
         "line": {
          "color": "orange",
          "width": 10
         },
         "mode": "lines",
         "showlegend": false,
         "type": "scatter",
         "x": [
          "2023-06-29T13:30:00",
          "2023-06-29T21:10:00"
         ],
         "y": [
          103,
          103
         ]
        },
        {
         "line": {
          "color": "orange",
          "width": 10
         },
         "mode": "lines",
         "showlegend": false,
         "type": "scatter",
         "x": [
          "2023-06-29T08:30:00",
          "2023-06-29T21:10:00"
         ],
         "y": [
          104,
          104
         ]
        },
        {
         "line": {
          "color": "orange",
          "width": 10
         },
         "mode": "lines",
         "showlegend": false,
         "type": "scatter",
         "x": [
          "2023-06-29T09:30:00",
          "2023-06-29T21:10:00"
         ],
         "y": [
          105,
          105
         ]
        },
        {
         "line": {
          "color": "orange",
          "width": 10
         },
         "mode": "lines",
         "showlegend": false,
         "type": "scatter",
         "x": [
          "2023-06-29T09:30:00",
          "2023-06-29T21:10:00"
         ],
         "y": [
          106,
          106
         ]
        },
        {
         "line": {
          "color": "orange",
          "width": 10
         },
         "mode": "lines",
         "showlegend": false,
         "type": "scatter",
         "x": [
          "2023-06-29T13:00:00",
          "2023-06-29T22:00:00"
         ],
         "y": [
          107,
          107
         ]
        },
        {
         "line": {
          "color": "orange",
          "width": 10
         },
         "mode": "lines",
         "showlegend": false,
         "type": "scatter",
         "x": [
          "2023-06-29T09:30:00",
          "2023-06-29T21:10:00"
         ],
         "y": [
          108,
          108
         ]
        },
        {
         "line": {
          "color": "orange",
          "width": 10
         },
         "mode": "lines",
         "showlegend": false,
         "type": "scatter",
         "x": [
          "2023-06-29T11:00:00",
          "2023-06-29T22:00:00"
         ],
         "y": [
          109,
          109
         ]
        },
        {
         "line": {
          "color": "orange",
          "width": 10
         },
         "mode": "lines",
         "showlegend": false,
         "type": "scatter",
         "x": [
          "2023-06-29T09:40:00",
          "2023-06-29T22:00:00"
         ],
         "y": [
          110,
          110
         ]
        },
        {
         "line": {
          "color": "orange",
          "width": 10
         },
         "mode": "lines",
         "showlegend": false,
         "type": "scatter",
         "x": [
          "2023-06-29T10:44:00",
          "2023-06-29T15:00:00"
         ],
         "y": [
          111,
          111
         ]
        },
        {
         "line": {
          "color": "orange",
          "width": 10
         },
         "mode": "lines",
         "showlegend": false,
         "type": "scatter",
         "x": [
          "2023-06-29T15:00:00",
          "2023-06-29T22:00:00"
         ],
         "y": [
          111,
          111
         ]
        },
        {
         "line": {
          "color": "orange",
          "width": 10
         },
         "mode": "lines",
         "showlegend": false,
         "type": "scatter",
         "x": [
          "2023-06-29T09:30:00",
          "2023-06-29T22:00:00"
         ],
         "y": [
          112,
          112
         ]
        },
        {
         "line": {
          "color": "orange",
          "width": 10
         },
         "mode": "lines",
         "showlegend": false,
         "type": "scatter",
         "x": [
          "2023-06-29T09:30:00",
          "2023-06-29T22:00:00"
         ],
         "y": [
          113,
          113
         ]
        },
        {
         "line": {
          "color": "orange",
          "width": 10
         },
         "mode": "lines",
         "showlegend": false,
         "type": "scatter",
         "x": [
          "2023-06-29T13:30:00",
          "2023-06-29T22:00:00"
         ],
         "y": [
          114,
          114
         ]
        },
        {
         "line": {
          "color": "orange",
          "width": 10
         },
         "mode": "lines",
         "showlegend": false,
         "type": "scatter",
         "x": [
          "2023-06-29T09:00:00",
          "2023-06-29T22:00:00"
         ],
         "y": [
          115,
          115
         ]
        },
        {
         "line": {
          "color": "orange",
          "width": 10
         },
         "mode": "lines",
         "showlegend": false,
         "type": "scatter",
         "x": [
          "2023-06-29T09:50:00",
          "2023-06-29T22:00:00"
         ],
         "y": [
          116,
          116
         ]
        },
        {
         "line": {
          "color": "orange",
          "width": 10
         },
         "mode": "lines",
         "showlegend": false,
         "type": "scatter",
         "x": [
          "2023-06-29T14:00:00",
          "2023-06-29T22:00:00"
         ],
         "y": [
          117,
          117
         ]
        },
        {
         "line": {
          "color": "orange",
          "width": 10
         },
         "mode": "lines",
         "showlegend": false,
         "type": "scatter",
         "x": [
          "2023-06-29T15:00:00",
          "2023-06-29T22:00:00"
         ],
         "y": [
          118,
          118
         ]
        },
        {
         "line": {
          "color": "orange",
          "width": 10
         },
         "mode": "lines",
         "showlegend": false,
         "type": "scatter",
         "x": [
          "2023-06-29T12:00:00",
          "2023-06-29T22:00:00"
         ],
         "y": [
          119,
          119
         ]
        },
        {
         "line": {
          "color": "orange",
          "width": 10
         },
         "mode": "lines",
         "showlegend": false,
         "type": "scatter",
         "x": [
          "2023-06-29T15:10:00",
          "2023-06-29T22:00:00"
         ],
         "y": [
          120,
          120
         ]
        },
        {
         "line": {
          "color": "orange",
          "width": 10
         },
         "mode": "lines",
         "showlegend": false,
         "type": "scatter",
         "x": [
          "2023-06-29T08:30:00",
          "2023-06-29T21:10:00"
         ],
         "y": [
          121,
          121
         ]
        },
        {
         "line": {
          "color": "orange",
          "width": 10
         },
         "mode": "lines",
         "showlegend": false,
         "type": "scatter",
         "x": [
          "2023-06-29T10:30:00",
          "2023-06-29T21:10:00"
         ],
         "y": [
          122,
          122
         ]
        },
        {
         "line": {
          "color": "orange",
          "width": 10
         },
         "mode": "lines",
         "showlegend": false,
         "type": "scatter",
         "x": [
          "2023-06-29T10:30:00",
          "2023-06-29T22:00:00"
         ],
         "y": [
          123,
          123
         ]
        },
        {
         "line": {
          "color": "orange",
          "width": 10
         },
         "mode": "lines",
         "showlegend": false,
         "type": "scatter",
         "x": [
          "2023-06-29T16:30:00",
          "2023-06-29T22:00:00"
         ],
         "y": [
          124,
          124
         ]
        },
        {
         "line": {
          "color": "orange",
          "width": 10
         },
         "mode": "lines",
         "showlegend": false,
         "type": "scatter",
         "x": [
          "2023-06-29T08:30:00",
          "2023-06-29T22:00:00"
         ],
         "y": [
          125,
          125
         ]
        },
        {
         "line": {
          "color": "orange",
          "width": 10
         },
         "mode": "lines",
         "showlegend": false,
         "type": "scatter",
         "x": [
          "2023-06-29T08:00:00",
          "2023-06-29T22:00:00"
         ],
         "y": [
          126,
          126
         ]
        },
        {
         "line": {
          "color": "orange",
          "width": 10
         },
         "mode": "lines",
         "showlegend": false,
         "type": "scatter",
         "x": [
          "2023-06-29T07:50:00",
          "2023-06-29T21:10:00"
         ],
         "y": [
          127,
          127
         ]
        },
        {
         "line": {
          "color": "orange",
          "width": 10
         },
         "mode": "lines",
         "showlegend": false,
         "type": "scatter",
         "x": [
          "2023-06-29T09:40:00",
          "2023-06-29T22:00:00"
         ],
         "y": [
          128,
          128
         ]
        },
        {
         "line": {
          "color": "orange",
          "width": 10
         },
         "mode": "lines",
         "showlegend": false,
         "type": "scatter",
         "x": [
          "2023-06-29T08:40:00",
          "2023-06-29T21:10:00"
         ],
         "y": [
          129,
          129
         ]
        },
        {
         "line": {
          "color": "orange",
          "width": 10
         },
         "mode": "lines",
         "showlegend": false,
         "type": "scatter",
         "x": [
          "2023-06-29T06:30:00",
          "2023-06-29T22:00:00"
         ],
         "y": [
          130,
          130
         ]
        },
        {
         "line": {
          "color": "orange",
          "width": 10
         },
         "mode": "lines",
         "showlegend": false,
         "type": "scatter",
         "x": [
          "2023-06-29T14:00:00",
          "2023-06-29T22:00:00"
         ],
         "y": [
          131,
          131
         ]
        },
        {
         "line": {
          "color": "orange",
          "width": 10
         },
         "mode": "lines",
         "showlegend": false,
         "type": "scatter",
         "x": [
          "2023-06-29T09:00:00",
          "2023-06-29T21:10:00"
         ],
         "y": [
          132,
          132
         ]
        },
        {
         "line": {
          "color": "orange",
          "width": 10
         },
         "mode": "lines",
         "showlegend": false,
         "type": "scatter",
         "x": [
          "2023-06-29T09:10:00",
          "2023-06-29T22:00:00"
         ],
         "y": [
          133,
          133
         ]
        },
        {
         "line": {
          "color": "orange",
          "width": 10
         },
         "mode": "lines",
         "showlegend": false,
         "type": "scatter",
         "x": [
          "2023-06-29T11:41:00",
          "2023-06-29T14:00:00"
         ],
         "y": [
          134,
          134
         ]
        },
        {
         "line": {
          "color": "orange",
          "width": 10
         },
         "mode": "lines",
         "showlegend": false,
         "type": "scatter",
         "x": [
          "2023-06-29T14:00:00",
          "2023-06-29T22:00:00"
         ],
         "y": [
          134,
          134
         ]
        },
        {
         "line": {
          "color": "orange",
          "width": 10
         },
         "mode": "lines",
         "showlegend": false,
         "type": "scatter",
         "x": [
          "2023-06-29T10:20:00",
          "2023-06-29T16:00:00"
         ],
         "y": [
          135,
          135
         ]
        },
        {
         "line": {
          "color": "orange",
          "width": 10
         },
         "mode": "lines",
         "showlegend": false,
         "type": "scatter",
         "x": [
          "2023-06-29T16:00:00",
          "2023-06-29T21:10:00"
         ],
         "y": [
          135,
          135
         ]
        },
        {
         "line": {
          "color": "orange",
          "width": 10
         },
         "mode": "lines",
         "showlegend": false,
         "type": "scatter",
         "x": [
          "2023-06-29T09:00:00",
          "2023-06-29T22:00:00"
         ],
         "y": [
          136,
          136
         ]
        },
        {
         "line": {
          "color": "orange",
          "width": 10
         },
         "mode": "lines",
         "showlegend": false,
         "type": "scatter",
         "x": [
          "2023-06-29T08:10:00",
          "2023-06-29T21:30:00"
         ],
         "y": [
          137,
          137
         ]
        },
        {
         "line": {
          "color": "orange",
          "width": 10
         },
         "mode": "lines",
         "showlegend": false,
         "type": "scatter",
         "x": [
          "2023-06-29T09:10:00",
          "2023-06-29T22:00:00"
         ],
         "y": [
          138,
          138
         ]
        },
        {
         "line": {
          "color": "orange",
          "width": 10
         },
         "mode": "lines",
         "showlegend": false,
         "type": "scatter",
         "x": [
          "2023-06-29T09:00:00",
          "2023-06-29T21:10:00"
         ],
         "y": [
          139,
          139
         ]
        },
        {
         "line": {
          "color": "orange",
          "width": 10
         },
         "mode": "lines",
         "showlegend": false,
         "type": "scatter",
         "x": [
          "2023-06-29T09:30:00",
          "2023-06-29T22:00:00"
         ],
         "y": [
          140,
          140
         ]
        },
        {
         "line": {
          "color": "orange",
          "width": 10
         },
         "mode": "lines",
         "showlegend": false,
         "type": "scatter",
         "x": [
          "2023-06-29T13:00:00",
          "2023-06-29T22:00:00"
         ],
         "y": [
          141,
          141
         ]
        },
        {
         "line": {
          "color": "orange",
          "width": 10
         },
         "mode": "lines",
         "showlegend": false,
         "type": "scatter",
         "x": [
          "2023-06-29T07:50:00",
          "2023-06-29T21:10:00"
         ],
         "y": [
          142,
          142
         ]
        },
        {
         "line": {
          "color": "orange",
          "width": 10
         },
         "mode": "lines",
         "showlegend": false,
         "type": "scatter",
         "x": [
          "2023-06-29T09:40:00",
          "2023-06-29T22:00:00"
         ],
         "y": [
          143,
          143
         ]
        },
        {
         "line": {
          "color": "orange",
          "width": 10
         },
         "mode": "lines",
         "showlegend": false,
         "type": "scatter",
         "x": [
          "2023-06-29T08:30:00",
          "2023-06-29T22:00:00"
         ],
         "y": [
          144,
          144
         ]
        },
        {
         "line": {
          "color": "orange",
          "width": 10
         },
         "mode": "lines",
         "showlegend": false,
         "type": "scatter",
         "x": [
          "2023-06-29T13:40:00",
          "2023-06-29T22:00:00"
         ],
         "y": [
          145,
          145
         ]
        },
        {
         "line": {
          "color": "orange",
          "width": 10
         },
         "mode": "lines",
         "showlegend": false,
         "type": "scatter",
         "x": [
          "2023-06-29T09:00:00",
          "2023-06-29T22:00:00"
         ],
         "y": [
          146,
          146
         ]
        },
        {
         "line": {
          "color": "orange",
          "width": 10
         },
         "mode": "lines",
         "showlegend": false,
         "type": "scatter",
         "x": [
          "2023-06-29T09:40:00",
          "2023-06-29T22:00:00"
         ],
         "y": [
          147,
          147
         ]
        },
        {
         "line": {
          "color": "orange",
          "width": 10
         },
         "mode": "lines",
         "showlegend": false,
         "type": "scatter",
         "x": [
          "2023-06-29T08:30:00",
          "2023-06-29T21:10:00"
         ],
         "y": [
          148,
          148
         ]
        },
        {
         "line": {
          "color": "orange",
          "width": 10
         },
         "mode": "lines",
         "showlegend": false,
         "type": "scatter",
         "x": [
          "2023-06-29T08:30:00",
          "2023-06-29T22:00:00"
         ],
         "y": [
          149,
          149
         ]
        },
        {
         "line": {
          "color": "orange",
          "width": 10
         },
         "mode": "lines",
         "showlegend": false,
         "type": "scatter",
         "x": [
          "2023-06-29T12:10:00",
          "2023-06-29T22:00:00"
         ],
         "y": [
          150,
          150
         ]
        },
        {
         "line": {
          "color": "orange",
          "width": 10
         },
         "mode": "lines",
         "showlegend": false,
         "type": "scatter",
         "x": [
          "2023-06-29T14:00:00",
          "2023-06-29T22:00:00"
         ],
         "y": [
          151,
          151
         ]
        },
        {
         "line": {
          "color": "orange",
          "width": 10
         },
         "mode": "lines",
         "showlegend": false,
         "type": "scatter",
         "x": [
          "2023-06-29T09:30:00",
          "2023-06-29T22:00:00"
         ],
         "y": [
          152,
          152
         ]
        },
        {
         "line": {
          "color": "orange",
          "width": 10
         },
         "mode": "lines",
         "showlegend": false,
         "type": "scatter",
         "x": [
          "2023-06-29T10:30:00",
          "2023-06-29T21:10:00"
         ],
         "y": [
          153,
          153
         ]
        },
        {
         "line": {
          "color": "orange",
          "width": 10
         },
         "mode": "lines",
         "showlegend": false,
         "type": "scatter",
         "x": [
          "2023-06-29T08:00:00",
          "2023-06-29T22:00:00"
         ],
         "y": [
          154,
          154
         ]
        },
        {
         "line": {
          "color": "orange",
          "width": 10
         },
         "mode": "lines",
         "showlegend": false,
         "type": "scatter",
         "x": [
          "2023-06-29T08:30:00",
          "2023-06-29T22:00:00"
         ],
         "y": [
          155,
          155
         ]
        },
        {
         "line": {
          "color": "orange",
          "width": 10
         },
         "mode": "lines",
         "showlegend": false,
         "type": "scatter",
         "x": [
          "2023-06-29T10:00:00",
          "2023-06-29T22:00:00"
         ],
         "y": [
          156,
          156
         ]
        },
        {
         "line": {
          "color": "orange",
          "width": 10
         },
         "mode": "lines",
         "showlegend": false,
         "type": "scatter",
         "x": [
          "2023-06-29T09:30:00",
          "2023-06-29T21:00:00"
         ],
         "y": [
          157,
          157
         ]
        },
        {
         "line": {
          "color": "orange",
          "width": 10
         },
         "mode": "lines",
         "showlegend": false,
         "type": "scatter",
         "x": [
          "2023-06-29T12:50:00",
          "2023-06-29T22:00:00"
         ],
         "y": [
          158,
          158
         ]
        },
        {
         "line": {
          "color": "orange",
          "width": 10
         },
         "mode": "lines",
         "showlegend": false,
         "type": "scatter",
         "x": [
          "2023-06-29T08:00:00",
          "2023-06-29T22:00:00"
         ],
         "y": [
          159,
          159
         ]
        },
        {
         "line": {
          "color": "orange",
          "width": 10
         },
         "mode": "lines",
         "showlegend": false,
         "type": "scatter",
         "x": [
          "2023-06-29T09:30:00",
          "2023-06-29T22:00:00"
         ],
         "y": [
          160,
          160
         ]
        },
        {
         "line": {
          "color": "orange",
          "width": 10
         },
         "mode": "lines",
         "showlegend": false,
         "type": "scatter",
         "x": [
          "2023-06-29T09:30:00",
          "2023-06-29T22:00:00"
         ],
         "y": [
          161,
          161
         ]
        },
        {
         "line": {
          "color": "orange",
          "width": 10
         },
         "mode": "lines",
         "showlegend": false,
         "type": "scatter",
         "x": [
          "2023-06-29T09:00:00",
          "2023-06-29T22:00:00"
         ],
         "y": [
          162,
          162
         ]
        },
        {
         "line": {
          "color": "orange",
          "width": 10
         },
         "mode": "lines",
         "showlegend": false,
         "type": "scatter",
         "x": [
          "2023-06-29T13:00:00",
          "2023-06-29T21:20:00"
         ],
         "y": [
          163,
          163
         ]
        },
        {
         "line": {
          "color": "orange",
          "width": 10
         },
         "mode": "lines",
         "showlegend": false,
         "type": "scatter",
         "x": [
          "2023-06-29T16:30:00",
          "2023-06-29T22:00:00"
         ],
         "y": [
          164,
          164
         ]
        },
        {
         "line": {
          "color": "orange",
          "width": 10
         },
         "mode": "lines",
         "showlegend": false,
         "type": "scatter",
         "x": [
          "2023-06-29T16:00:00",
          "2023-06-29T21:10:00"
         ],
         "y": [
          165,
          165
         ]
        },
        {
         "line": {
          "color": "orange",
          "width": 10
         },
         "mode": "lines",
         "showlegend": false,
         "type": "scatter",
         "x": [
          "2023-06-29T08:30:00",
          "2023-06-29T22:00:00"
         ],
         "y": [
          166,
          166
         ]
        },
        {
         "line": {
          "color": "orange",
          "width": 10
         },
         "mode": "lines",
         "showlegend": false,
         "type": "scatter",
         "x": [
          "2023-06-29T09:00:00",
          "2023-06-29T22:00:00"
         ],
         "y": [
          167,
          167
         ]
        },
        {
         "line": {
          "color": "orange",
          "width": 10
         },
         "mode": "lines",
         "showlegend": false,
         "type": "scatter",
         "x": [
          "2023-06-29T10:30:00",
          "2023-06-29T21:10:00"
         ],
         "y": [
          168,
          168
         ]
        },
        {
         "line": {
          "color": "orange",
          "width": 10
         },
         "mode": "lines",
         "showlegend": false,
         "type": "scatter",
         "x": [
          "2023-06-29T13:30:00",
          "2023-06-29T22:00:00"
         ],
         "y": [
          169,
          169
         ]
        },
        {
         "line": {
          "color": "orange",
          "width": 10
         },
         "mode": "lines",
         "showlegend": false,
         "type": "scatter",
         "x": [
          "2023-06-29T09:00:00",
          "2023-06-29T22:00:00"
         ],
         "y": [
          170,
          170
         ]
        },
        {
         "line": {
          "color": "orange",
          "width": 10
         },
         "mode": "lines",
         "showlegend": false,
         "type": "scatter",
         "x": [
          "2023-06-29T11:50:00",
          "2023-06-29T22:00:00"
         ],
         "y": [
          171,
          171
         ]
        },
        {
         "line": {
          "color": "orange",
          "width": 10
         },
         "mode": "lines",
         "showlegend": false,
         "type": "scatter",
         "x": [
          "2023-06-29T08:30:00",
          "2023-06-29T22:00:00"
         ],
         "y": [
          172,
          172
         ]
        },
        {
         "line": {
          "color": "orange",
          "width": 10
         },
         "mode": "lines",
         "showlegend": false,
         "type": "scatter",
         "x": [
          "2023-06-29T08:30:00",
          "2023-06-29T21:10:00"
         ],
         "y": [
          173,
          173
         ]
        },
        {
         "line": {
          "color": "orange",
          "width": 10
         },
         "mode": "lines",
         "showlegend": false,
         "type": "scatter",
         "x": [
          "2023-06-29T08:30:00",
          "2023-06-29T22:00:00"
         ],
         "y": [
          174,
          174
         ]
        },
        {
         "line": {
          "color": "orange",
          "width": 10
         },
         "mode": "lines",
         "showlegend": false,
         "type": "scatter",
         "x": [
          "2023-06-29T08:30:00",
          "2023-06-29T21:10:00"
         ],
         "y": [
          175,
          175
         ]
        },
        {
         "line": {
          "color": "orange",
          "width": 10
         },
         "mode": "lines",
         "showlegend": false,
         "type": "scatter",
         "x": [
          "2023-06-29T17:00:00",
          "2023-06-29T22:00:00"
         ],
         "y": [
          176,
          176
         ]
        },
        {
         "line": {
          "color": "orange",
          "width": 10
         },
         "mode": "lines",
         "showlegend": false,
         "type": "scatter",
         "x": [
          "2023-06-29T08:30:00",
          "2023-06-29T21:10:00"
         ],
         "y": [
          177,
          177
         ]
        },
        {
         "line": {
          "color": "orange",
          "width": 10
         },
         "mode": "lines",
         "showlegend": false,
         "type": "scatter",
         "x": [
          "2023-06-29T11:50:00",
          "2023-06-29T22:00:00"
         ],
         "y": [
          178,
          178
         ]
        },
        {
         "line": {
          "color": "orange",
          "width": 10
         },
         "mode": "lines",
         "showlegend": false,
         "type": "scatter",
         "x": [
          "2023-06-29T14:00:00",
          "2023-06-29T22:00:00"
         ],
         "y": [
          179,
          179
         ]
        },
        {
         "line": {
          "color": "orange",
          "width": 10
         },
         "mode": "lines",
         "showlegend": false,
         "type": "scatter",
         "x": [
          "2023-06-29T09:30:00",
          "2023-06-29T21:10:00"
         ],
         "y": [
          180,
          180
         ]
        },
        {
         "line": {
          "color": "orange",
          "width": 10
         },
         "mode": "lines",
         "showlegend": false,
         "type": "scatter",
         "x": [
          "2023-06-29T08:30:00",
          "2023-06-29T22:00:00"
         ],
         "y": [
          181,
          181
         ]
        },
        {
         "line": {
          "color": "orange",
          "width": 10
         },
         "mode": "lines",
         "showlegend": false,
         "type": "scatter",
         "x": [
          "2023-06-29T09:30:00",
          "2023-06-29T22:00:00"
         ],
         "y": [
          182,
          182
         ]
        },
        {
         "line": {
          "color": "orange",
          "width": 10
         },
         "mode": "lines",
         "showlegend": false,
         "type": "scatter",
         "x": [
          "2023-06-29T14:30:00",
          "2023-06-29T22:00:00"
         ],
         "y": [
          183,
          183
         ]
        },
        {
         "line": {
          "color": "orange",
          "width": 10
         },
         "mode": "lines",
         "showlegend": false,
         "type": "scatter",
         "x": [
          "2023-06-29T08:30:00",
          "2023-06-29T21:10:00"
         ],
         "y": [
          184,
          184
         ]
        },
        {
         "line": {
          "color": "orange",
          "width": 10
         },
         "mode": "lines",
         "showlegend": false,
         "type": "scatter",
         "x": [
          "2023-06-29T09:20:00",
          "2023-06-29T21:10:00"
         ],
         "y": [
          185,
          185
         ]
        },
        {
         "line": {
          "color": "orange",
          "width": 10
         },
         "mode": "lines",
         "showlegend": false,
         "type": "scatter",
         "x": [
          "2023-06-29T09:00:00",
          "2023-06-29T22:00:00"
         ],
         "y": [
          186,
          186
         ]
        },
        {
         "line": {
          "color": "orange",
          "width": 10
         },
         "mode": "lines",
         "showlegend": false,
         "type": "scatter",
         "x": [
          "2023-06-29T11:00:00",
          "2023-06-29T22:00:00"
         ],
         "y": [
          187,
          187
         ]
        },
        {
         "line": {
          "color": "orange",
          "width": 10
         },
         "mode": "lines",
         "showlegend": false,
         "type": "scatter",
         "x": [
          "2023-06-29T09:30:00",
          "2023-06-29T22:00:00"
         ],
         "y": [
          188,
          188
         ]
        },
        {
         "line": {
          "color": "orange",
          "width": 10
         },
         "mode": "lines",
         "showlegend": false,
         "type": "scatter",
         "x": [
          "2023-06-29T08:30:00",
          "2023-06-29T21:10:00"
         ],
         "y": [
          189,
          189
         ]
        },
        {
         "line": {
          "color": "orange",
          "width": 10
         },
         "mode": "lines",
         "showlegend": false,
         "type": "scatter",
         "x": [
          "2023-06-29T12:47:50",
          "2023-06-29T12:47:50"
         ],
         "y": [
          190,
          190
         ]
        },
        {
         "line": {
          "color": "orange",
          "width": 10
         },
         "mode": "lines",
         "showlegend": false,
         "type": "scatter",
         "x": [
          "2023-06-29T08:40:00",
          "2023-06-29T22:00:00"
         ],
         "y": [
          191,
          191
         ]
        },
        {
         "line": {
          "color": "orange",
          "width": 10
         },
         "mode": "lines",
         "showlegend": false,
         "type": "scatter",
         "x": [
          "2023-06-29T13:00:00",
          "2023-06-29T21:10:00"
         ],
         "y": [
          192,
          192
         ]
        },
        {
         "line": {
          "color": "orange",
          "width": 10
         },
         "mode": "lines",
         "showlegend": false,
         "type": "scatter",
         "x": [
          "2023-06-29T12:20:00",
          "2023-06-29T22:00:00"
         ],
         "y": [
          193,
          193
         ]
        },
        {
         "line": {
          "color": "orange",
          "width": 10
         },
         "mode": "lines",
         "showlegend": false,
         "type": "scatter",
         "x": [
          "2023-06-29T09:20:00",
          "2023-06-29T22:00:00"
         ],
         "y": [
          194,
          194
         ]
        },
        {
         "line": {
          "color": "orange",
          "width": 10
         },
         "mode": "lines",
         "showlegend": false,
         "type": "scatter",
         "x": [
          "2023-06-29T12:50:00",
          "2023-06-29T22:00:00"
         ],
         "y": [
          195,
          195
         ]
        },
        {
         "line": {
          "color": "orange",
          "width": 10
         },
         "mode": "lines",
         "showlegend": false,
         "type": "scatter",
         "x": [
          "2023-06-29T15:30:00",
          "2023-06-29T21:00:00"
         ],
         "y": [
          196,
          196
         ]
        },
        {
         "line": {
          "color": "orange",
          "width": 10
         },
         "mode": "lines",
         "showlegend": false,
         "type": "scatter",
         "x": [
          "2023-06-29T15:30:00",
          "2023-06-29T21:00:00"
         ],
         "y": [
          197,
          197
         ]
        },
        {
         "line": {
          "color": "orange",
          "width": 10
         },
         "mode": "lines",
         "showlegend": false,
         "type": "scatter",
         "x": [
          "2023-06-29T13:00:00",
          "2023-06-29T22:00:00"
         ],
         "y": [
          198,
          198
         ]
        },
        {
         "line": {
          "color": "orange",
          "width": 10
         },
         "mode": "lines",
         "showlegend": false,
         "type": "scatter",
         "x": [
          "2023-06-29T09:30:00",
          "2023-06-29T22:00:00"
         ],
         "y": [
          199,
          199
         ]
        },
        {
         "line": {
          "color": "orange",
          "width": 10
         },
         "mode": "lines",
         "showlegend": false,
         "type": "scatter",
         "x": [
          "2023-06-29T10:50:00",
          "2023-06-29T22:00:00"
         ],
         "y": [
          200,
          200
         ]
        },
        {
         "line": {
          "color": "orange",
          "width": 10
         },
         "mode": "lines",
         "showlegend": false,
         "type": "scatter",
         "x": [
          "2023-06-29T13:30:00",
          "2023-06-29T22:00:00"
         ],
         "y": [
          201,
          201
         ]
        },
        {
         "line": {
          "color": "orange",
          "width": 10
         },
         "mode": "lines",
         "showlegend": false,
         "type": "scatter",
         "x": [
          "2023-06-29T14:00:00",
          "2023-06-29T22:00:00"
         ],
         "y": [
          202,
          202
         ]
        },
        {
         "line": {
          "color": "orange",
          "width": 10
         },
         "mode": "lines",
         "showlegend": false,
         "type": "scatter",
         "x": [
          "2023-06-29T10:50:00",
          "2023-06-29T22:00:00"
         ],
         "y": [
          203,
          203
         ]
        },
        {
         "line": {
          "color": "orange",
          "width": 10
         },
         "mode": "lines",
         "showlegend": false,
         "type": "scatter",
         "x": [
          "2023-06-29T09:11:00",
          "2023-06-29T14:00:00"
         ],
         "y": [
          204,
          204
         ]
        },
        {
         "line": {
          "color": "orange",
          "width": 10
         },
         "mode": "lines",
         "showlegend": false,
         "type": "scatter",
         "x": [
          "2023-06-29T14:00:00",
          "2023-06-29T22:00:00"
         ],
         "y": [
          204,
          204
         ]
        },
        {
         "line": {
          "color": "orange",
          "width": 10
         },
         "mode": "lines",
         "showlegend": false,
         "type": "scatter",
         "x": [
          "2023-06-29T08:30:00",
          "2023-06-29T22:00:00"
         ],
         "y": [
          205,
          205
         ]
        },
        {
         "line": {
          "color": "orange",
          "width": 10
         },
         "mode": "lines",
         "showlegend": false,
         "type": "scatter",
         "x": [
          "2023-06-29T17:50:00",
          "2023-06-29T21:10:00"
         ],
         "y": [
          206,
          206
         ]
        },
        {
         "line": {
          "color": "orange",
          "width": 10
         },
         "mode": "lines",
         "showlegend": false,
         "type": "scatter",
         "x": [
          "2023-06-29T14:30:00",
          "2023-06-29T17:50:00"
         ],
         "y": [
          206,
          206
         ]
        },
        {
         "line": {
          "color": "orange",
          "width": 10
         },
         "mode": "lines",
         "showlegend": false,
         "type": "scatter",
         "x": [
          "2023-06-29T08:30:00",
          "2023-06-29T22:00:00"
         ],
         "y": [
          207,
          207
         ]
        },
        {
         "line": {
          "color": "orange",
          "width": 10
         },
         "mode": "lines",
         "showlegend": false,
         "type": "scatter",
         "x": [
          "2023-06-29T09:40:00",
          "2023-06-29T16:00:00"
         ],
         "y": [
          208,
          208
         ]
        },
        {
         "line": {
          "color": "orange",
          "width": 10
         },
         "mode": "lines",
         "showlegend": false,
         "type": "scatter",
         "x": [
          "2023-06-29T16:00:00",
          "2023-06-29T22:00:00"
         ],
         "y": [
          208,
          208
         ]
        },
        {
         "line": {
          "color": "orange",
          "width": 10
         },
         "mode": "lines",
         "showlegend": false,
         "type": "scatter",
         "x": [
          "2023-06-29T09:00:00",
          "2023-06-29T16:00:00"
         ],
         "y": [
          209,
          209
         ]
        },
        {
         "line": {
          "color": "orange",
          "width": 10
         },
         "mode": "lines",
         "showlegend": false,
         "type": "scatter",
         "x": [
          "2023-06-29T16:00:00",
          "2023-06-29T22:00:00"
         ],
         "y": [
          209,
          209
         ]
        },
        {
         "line": {
          "color": "orange",
          "width": 10
         },
         "mode": "lines",
         "showlegend": false,
         "type": "scatter",
         "x": [
          "2023-06-29T08:30:00",
          "2023-06-29T21:20:00"
         ],
         "y": [
          210,
          210
         ]
        },
        {
         "line": {
          "color": "orange",
          "width": 10
         },
         "mode": "lines",
         "showlegend": false,
         "type": "scatter",
         "x": [
          "2023-06-29T08:00:00",
          "2023-06-29T21:10:00"
         ],
         "y": [
          211,
          211
         ]
        },
        {
         "line": {
          "color": "orange",
          "width": 10
         },
         "mode": "lines",
         "showlegend": false,
         "type": "scatter",
         "x": [
          "2023-06-29T13:50:00",
          "2023-06-29T22:00:00"
         ],
         "y": [
          212,
          212
         ]
        },
        {
         "line": {
          "color": "orange",
          "width": 10
         },
         "mode": "lines",
         "showlegend": false,
         "type": "scatter",
         "x": [
          "2023-06-29T09:00:00",
          "2023-06-29T22:00:00"
         ],
         "y": [
          213,
          213
         ]
        },
        {
         "line": {
          "color": "orange",
          "width": 10
         },
         "mode": "lines",
         "showlegend": false,
         "type": "scatter",
         "x": [
          "2023-06-29T13:00:00",
          "2023-06-29T22:00:00"
         ],
         "y": [
          214,
          214
         ]
        },
        {
         "line": {
          "color": "orange",
          "width": 10
         },
         "mode": "lines",
         "showlegend": false,
         "type": "scatter",
         "x": [
          "2023-06-29T13:00:00",
          "2023-06-29T22:00:00"
         ],
         "y": [
          215,
          215
         ]
        },
        {
         "line": {
          "color": "orange",
          "width": 10
         },
         "mode": "lines",
         "showlegend": false,
         "type": "scatter",
         "x": [
          "2023-06-29T08:00:00",
          "2023-06-29T22:00:00"
         ],
         "y": [
          216,
          216
         ]
        },
        {
         "line": {
          "color": "orange",
          "width": 10
         },
         "mode": "lines",
         "showlegend": false,
         "type": "scatter",
         "x": [
          "2023-06-29T08:30:00",
          "2023-06-29T22:00:00"
         ],
         "y": [
          217,
          217
         ]
        },
        {
         "line": {
          "color": "orange",
          "width": 10
         },
         "mode": "lines",
         "showlegend": false,
         "type": "scatter",
         "x": [
          "2023-06-29T09:00:00",
          "2023-06-29T21:10:00"
         ],
         "y": [
          218,
          218
         ]
        },
        {
         "line": {
          "color": "orange",
          "width": 10
         },
         "mode": "lines",
         "showlegend": false,
         "type": "scatter",
         "x": [
          "2023-06-29T09:00:00",
          "2023-06-29T21:10:00"
         ],
         "y": [
          219,
          219
         ]
        },
        {
         "line": {
          "color": "orange",
          "width": 10
         },
         "mode": "lines",
         "showlegend": false,
         "type": "scatter",
         "x": [
          "2023-06-29T09:00:00",
          "2023-06-29T21:10:00"
         ],
         "y": [
          220,
          220
         ]
        },
        {
         "line": {
          "color": "orange",
          "width": 10
         },
         "mode": "lines",
         "showlegend": false,
         "type": "scatter",
         "x": [
          "2023-06-29T13:50:00",
          "2023-06-29T22:00:00"
         ],
         "y": [
          221,
          221
         ]
        },
        {
         "line": {
          "color": "orange",
          "width": 10
         },
         "mode": "lines",
         "showlegend": false,
         "type": "scatter",
         "x": [
          "2023-06-29T10:40:00",
          "2023-06-29T22:00:00"
         ],
         "y": [
          222,
          222
         ]
        },
        {
         "line": {
          "color": "orange",
          "width": 10
         },
         "mode": "lines",
         "showlegend": false,
         "type": "scatter",
         "x": [
          "2023-06-29T12:20:00",
          "2023-06-29T22:00:00"
         ],
         "y": [
          223,
          223
         ]
        },
        {
         "line": {
          "color": "orange",
          "width": 10
         },
         "mode": "lines",
         "showlegend": false,
         "type": "scatter",
         "x": [
          "2023-06-29T12:30:00",
          "2023-06-29T22:00:00"
         ],
         "y": [
          224,
          224
         ]
        },
        {
         "line": {
          "color": "orange",
          "width": 10
         },
         "mode": "lines",
         "showlegend": false,
         "type": "scatter",
         "x": [
          "2023-06-29T09:00:00",
          "2023-06-29T22:00:00"
         ],
         "y": [
          225,
          225
         ]
        },
        {
         "line": {
          "color": "orange",
          "width": 10
         },
         "mode": "lines",
         "showlegend": false,
         "type": "scatter",
         "x": [
          "2023-06-29T08:30:00",
          "2023-06-29T22:00:00"
         ],
         "y": [
          226,
          226
         ]
        },
        {
         "line": {
          "color": "orange",
          "width": 10
         },
         "mode": "lines",
         "showlegend": false,
         "type": "scatter",
         "x": [
          "2023-06-29T06:30:00",
          "2023-06-29T21:10:00"
         ],
         "y": [
          227,
          227
         ]
        },
        {
         "line": {
          "color": "orange",
          "width": 10
         },
         "mode": "lines",
         "showlegend": false,
         "type": "scatter",
         "x": [
          "2023-06-29T09:00:00",
          "2023-06-29T22:00:00"
         ],
         "y": [
          228,
          228
         ]
        },
        {
         "line": {
          "color": "orange",
          "width": 10
         },
         "mode": "lines",
         "showlegend": false,
         "type": "scatter",
         "x": [
          "2023-06-29T08:30:00",
          "2023-06-29T21:10:00"
         ],
         "y": [
          229,
          229
         ]
        },
        {
         "line": {
          "color": "orange",
          "width": 10
         },
         "mode": "lines",
         "showlegend": false,
         "type": "scatter",
         "x": [
          "2023-06-29T09:20:00",
          "2023-06-29T22:00:00"
         ],
         "y": [
          230,
          230
         ]
        },
        {
         "line": {
          "color": "orange",
          "width": 10
         },
         "mode": "lines",
         "showlegend": false,
         "type": "scatter",
         "x": [
          "2023-06-29T10:10:00",
          "2023-06-29T22:00:00"
         ],
         "y": [
          231,
          231
         ]
        },
        {
         "line": {
          "color": "orange",
          "width": 10
         },
         "mode": "lines",
         "showlegend": false,
         "type": "scatter",
         "x": [
          "2023-06-29T11:10:00",
          "2023-06-29T22:00:00"
         ],
         "y": [
          232,
          232
         ]
        },
        {
         "line": {
          "color": "orange",
          "width": 10
         },
         "mode": "lines",
         "showlegend": false,
         "type": "scatter",
         "x": [
          "2023-06-29T09:00:00",
          "2023-06-29T22:00:00"
         ],
         "y": [
          233,
          233
         ]
        },
        {
         "line": {
          "color": "orange",
          "width": 10
         },
         "mode": "lines",
         "showlegend": false,
         "type": "scatter",
         "x": [
          "2023-06-29T10:10:00",
          "2023-06-29T22:00:00"
         ],
         "y": [
          234,
          234
         ]
        },
        {
         "line": {
          "color": "orange",
          "width": 10
         },
         "mode": "lines",
         "showlegend": false,
         "type": "scatter",
         "x": [
          "2023-06-29T13:00:00",
          "2023-06-29T22:00:00"
         ],
         "y": [
          235,
          235
         ]
        },
        {
         "line": {
          "color": "orange",
          "width": 10
         },
         "mode": "lines",
         "showlegend": false,
         "type": "scatter",
         "x": [
          "2023-06-29T09:08:00",
          "2023-06-29T22:00:00"
         ],
         "y": [
          236,
          236
         ]
        },
        {
         "line": {
          "color": "orange",
          "width": 10
         },
         "mode": "lines",
         "showlegend": false,
         "type": "scatter",
         "x": [
          "2023-06-29T12:30:00",
          "2023-06-29T16:30:00"
         ],
         "y": [
          237,
          237
         ]
        },
        {
         "line": {
          "color": "orange",
          "width": 10
         },
         "mode": "lines",
         "showlegend": false,
         "type": "scatter",
         "x": [
          "2023-06-29T16:30:00",
          "2023-06-29T21:10:00"
         ],
         "y": [
          237,
          237
         ]
        },
        {
         "line": {
          "color": "orange",
          "width": 10
         },
         "mode": "lines",
         "showlegend": false,
         "type": "scatter",
         "x": [
          "2023-06-29T13:30:00",
          "2023-06-29T22:00:00"
         ],
         "y": [
          238,
          238
         ]
        },
        {
         "line": {
          "color": "orange",
          "width": 10
         },
         "mode": "lines",
         "showlegend": false,
         "type": "scatter",
         "x": [
          "2023-06-29T08:30:00",
          "2023-06-29T21:10:00"
         ],
         "y": [
          239,
          239
         ]
        },
        {
         "line": {
          "color": "orange",
          "width": 10
         },
         "mode": "lines",
         "showlegend": false,
         "type": "scatter",
         "x": [
          "2023-06-29T07:10:00",
          "2023-06-29T21:30:00"
         ],
         "y": [
          240,
          240
         ]
        },
        {
         "line": {
          "color": "orange",
          "width": 10
         },
         "mode": "lines",
         "showlegend": false,
         "type": "scatter",
         "x": [
          "2023-06-29T14:00:00",
          "2023-06-29T22:00:00"
         ],
         "y": [
          241,
          241
         ]
        },
        {
         "line": {
          "color": "orange",
          "width": 10
         },
         "mode": "lines",
         "showlegend": false,
         "type": "scatter",
         "x": [
          "2023-06-29T08:30:00",
          "2023-06-29T22:00:00"
         ],
         "y": [
          242,
          242
         ]
        },
        {
         "line": {
          "color": "orange",
          "width": 10
         },
         "mode": "lines",
         "showlegend": false,
         "type": "scatter",
         "x": [
          "2023-06-29T09:00:00",
          "2023-06-29T21:10:00"
         ],
         "y": [
          243,
          243
         ]
        }
       ],
       "layout": {
        "autosize": false,
        "height": 2400,
        "margin": {
         "l": 100,
         "pad": 4,
         "r": 50
        },
        "template": {
         "data": {
          "bar": [
           {
            "error_x": {
             "color": "#2a3f5f"
            },
            "error_y": {
             "color": "#2a3f5f"
            },
            "marker": {
             "line": {
              "color": "#E5ECF6",
              "width": 0.5
             },
             "pattern": {
              "fillmode": "overlay",
              "size": 10,
              "solidity": 0.2
             }
            },
            "type": "bar"
           }
          ],
          "barpolar": [
           {
            "marker": {
             "line": {
              "color": "#E5ECF6",
              "width": 0.5
             },
             "pattern": {
              "fillmode": "overlay",
              "size": 10,
              "solidity": 0.2
             }
            },
            "type": "barpolar"
           }
          ],
          "carpet": [
           {
            "aaxis": {
             "endlinecolor": "#2a3f5f",
             "gridcolor": "white",
             "linecolor": "white",
             "minorgridcolor": "white",
             "startlinecolor": "#2a3f5f"
            },
            "baxis": {
             "endlinecolor": "#2a3f5f",
             "gridcolor": "white",
             "linecolor": "white",
             "minorgridcolor": "white",
             "startlinecolor": "#2a3f5f"
            },
            "type": "carpet"
           }
          ],
          "choropleth": [
           {
            "colorbar": {
             "outlinewidth": 0,
             "ticks": ""
            },
            "type": "choropleth"
           }
          ],
          "contour": [
           {
            "colorbar": {
             "outlinewidth": 0,
             "ticks": ""
            },
            "colorscale": [
             [
              0,
              "#0d0887"
             ],
             [
              0.1111111111111111,
              "#46039f"
             ],
             [
              0.2222222222222222,
              "#7201a8"
             ],
             [
              0.3333333333333333,
              "#9c179e"
             ],
             [
              0.4444444444444444,
              "#bd3786"
             ],
             [
              0.5555555555555556,
              "#d8576b"
             ],
             [
              0.6666666666666666,
              "#ed7953"
             ],
             [
              0.7777777777777778,
              "#fb9f3a"
             ],
             [
              0.8888888888888888,
              "#fdca26"
             ],
             [
              1,
              "#f0f921"
             ]
            ],
            "type": "contour"
           }
          ],
          "contourcarpet": [
           {
            "colorbar": {
             "outlinewidth": 0,
             "ticks": ""
            },
            "type": "contourcarpet"
           }
          ],
          "heatmap": [
           {
            "colorbar": {
             "outlinewidth": 0,
             "ticks": ""
            },
            "colorscale": [
             [
              0,
              "#0d0887"
             ],
             [
              0.1111111111111111,
              "#46039f"
             ],
             [
              0.2222222222222222,
              "#7201a8"
             ],
             [
              0.3333333333333333,
              "#9c179e"
             ],
             [
              0.4444444444444444,
              "#bd3786"
             ],
             [
              0.5555555555555556,
              "#d8576b"
             ],
             [
              0.6666666666666666,
              "#ed7953"
             ],
             [
              0.7777777777777778,
              "#fb9f3a"
             ],
             [
              0.8888888888888888,
              "#fdca26"
             ],
             [
              1,
              "#f0f921"
             ]
            ],
            "type": "heatmap"
           }
          ],
          "heatmapgl": [
           {
            "colorbar": {
             "outlinewidth": 0,
             "ticks": ""
            },
            "colorscale": [
             [
              0,
              "#0d0887"
             ],
             [
              0.1111111111111111,
              "#46039f"
             ],
             [
              0.2222222222222222,
              "#7201a8"
             ],
             [
              0.3333333333333333,
              "#9c179e"
             ],
             [
              0.4444444444444444,
              "#bd3786"
             ],
             [
              0.5555555555555556,
              "#d8576b"
             ],
             [
              0.6666666666666666,
              "#ed7953"
             ],
             [
              0.7777777777777778,
              "#fb9f3a"
             ],
             [
              0.8888888888888888,
              "#fdca26"
             ],
             [
              1,
              "#f0f921"
             ]
            ],
            "type": "heatmapgl"
           }
          ],
          "histogram": [
           {
            "marker": {
             "pattern": {
              "fillmode": "overlay",
              "size": 10,
              "solidity": 0.2
             }
            },
            "type": "histogram"
           }
          ],
          "histogram2d": [
           {
            "colorbar": {
             "outlinewidth": 0,
             "ticks": ""
            },
            "colorscale": [
             [
              0,
              "#0d0887"
             ],
             [
              0.1111111111111111,
              "#46039f"
             ],
             [
              0.2222222222222222,
              "#7201a8"
             ],
             [
              0.3333333333333333,
              "#9c179e"
             ],
             [
              0.4444444444444444,
              "#bd3786"
             ],
             [
              0.5555555555555556,
              "#d8576b"
             ],
             [
              0.6666666666666666,
              "#ed7953"
             ],
             [
              0.7777777777777778,
              "#fb9f3a"
             ],
             [
              0.8888888888888888,
              "#fdca26"
             ],
             [
              1,
              "#f0f921"
             ]
            ],
            "type": "histogram2d"
           }
          ],
          "histogram2dcontour": [
           {
            "colorbar": {
             "outlinewidth": 0,
             "ticks": ""
            },
            "colorscale": [
             [
              0,
              "#0d0887"
             ],
             [
              0.1111111111111111,
              "#46039f"
             ],
             [
              0.2222222222222222,
              "#7201a8"
             ],
             [
              0.3333333333333333,
              "#9c179e"
             ],
             [
              0.4444444444444444,
              "#bd3786"
             ],
             [
              0.5555555555555556,
              "#d8576b"
             ],
             [
              0.6666666666666666,
              "#ed7953"
             ],
             [
              0.7777777777777778,
              "#fb9f3a"
             ],
             [
              0.8888888888888888,
              "#fdca26"
             ],
             [
              1,
              "#f0f921"
             ]
            ],
            "type": "histogram2dcontour"
           }
          ],
          "mesh3d": [
           {
            "colorbar": {
             "outlinewidth": 0,
             "ticks": ""
            },
            "type": "mesh3d"
           }
          ],
          "parcoords": [
           {
            "line": {
             "colorbar": {
              "outlinewidth": 0,
              "ticks": ""
             }
            },
            "type": "parcoords"
           }
          ],
          "pie": [
           {
            "automargin": true,
            "type": "pie"
           }
          ],
          "scatter": [
           {
            "fillpattern": {
             "fillmode": "overlay",
             "size": 10,
             "solidity": 0.2
            },
            "type": "scatter"
           }
          ],
          "scatter3d": [
           {
            "line": {
             "colorbar": {
              "outlinewidth": 0,
              "ticks": ""
             }
            },
            "marker": {
             "colorbar": {
              "outlinewidth": 0,
              "ticks": ""
             }
            },
            "type": "scatter3d"
           }
          ],
          "scattercarpet": [
           {
            "marker": {
             "colorbar": {
              "outlinewidth": 0,
              "ticks": ""
             }
            },
            "type": "scattercarpet"
           }
          ],
          "scattergeo": [
           {
            "marker": {
             "colorbar": {
              "outlinewidth": 0,
              "ticks": ""
             }
            },
            "type": "scattergeo"
           }
          ],
          "scattergl": [
           {
            "marker": {
             "colorbar": {
              "outlinewidth": 0,
              "ticks": ""
             }
            },
            "type": "scattergl"
           }
          ],
          "scattermapbox": [
           {
            "marker": {
             "colorbar": {
              "outlinewidth": 0,
              "ticks": ""
             }
            },
            "type": "scattermapbox"
           }
          ],
          "scatterpolar": [
           {
            "marker": {
             "colorbar": {
              "outlinewidth": 0,
              "ticks": ""
             }
            },
            "type": "scatterpolar"
           }
          ],
          "scatterpolargl": [
           {
            "marker": {
             "colorbar": {
              "outlinewidth": 0,
              "ticks": ""
             }
            },
            "type": "scatterpolargl"
           }
          ],
          "scatterternary": [
           {
            "marker": {
             "colorbar": {
              "outlinewidth": 0,
              "ticks": ""
             }
            },
            "type": "scatterternary"
           }
          ],
          "surface": [
           {
            "colorbar": {
             "outlinewidth": 0,
             "ticks": ""
            },
            "colorscale": [
             [
              0,
              "#0d0887"
             ],
             [
              0.1111111111111111,
              "#46039f"
             ],
             [
              0.2222222222222222,
              "#7201a8"
             ],
             [
              0.3333333333333333,
              "#9c179e"
             ],
             [
              0.4444444444444444,
              "#bd3786"
             ],
             [
              0.5555555555555556,
              "#d8576b"
             ],
             [
              0.6666666666666666,
              "#ed7953"
             ],
             [
              0.7777777777777778,
              "#fb9f3a"
             ],
             [
              0.8888888888888888,
              "#fdca26"
             ],
             [
              1,
              "#f0f921"
             ]
            ],
            "type": "surface"
           }
          ],
          "table": [
           {
            "cells": {
             "fill": {
              "color": "#EBF0F8"
             },
             "line": {
              "color": "white"
             }
            },
            "header": {
             "fill": {
              "color": "#C8D4E3"
             },
             "line": {
              "color": "white"
             }
            },
            "type": "table"
           }
          ]
         },
         "layout": {
          "annotationdefaults": {
           "arrowcolor": "#2a3f5f",
           "arrowhead": 0,
           "arrowwidth": 1
          },
          "autotypenumbers": "strict",
          "coloraxis": {
           "colorbar": {
            "outlinewidth": 0,
            "ticks": ""
           }
          },
          "colorscale": {
           "diverging": [
            [
             0,
             "#8e0152"
            ],
            [
             0.1,
             "#c51b7d"
            ],
            [
             0.2,
             "#de77ae"
            ],
            [
             0.3,
             "#f1b6da"
            ],
            [
             0.4,
             "#fde0ef"
            ],
            [
             0.5,
             "#f7f7f7"
            ],
            [
             0.6,
             "#e6f5d0"
            ],
            [
             0.7,
             "#b8e186"
            ],
            [
             0.8,
             "#7fbc41"
            ],
            [
             0.9,
             "#4d9221"
            ],
            [
             1,
             "#276419"
            ]
           ],
           "sequential": [
            [
             0,
             "#0d0887"
            ],
            [
             0.1111111111111111,
             "#46039f"
            ],
            [
             0.2222222222222222,
             "#7201a8"
            ],
            [
             0.3333333333333333,
             "#9c179e"
            ],
            [
             0.4444444444444444,
             "#bd3786"
            ],
            [
             0.5555555555555556,
             "#d8576b"
            ],
            [
             0.6666666666666666,
             "#ed7953"
            ],
            [
             0.7777777777777778,
             "#fb9f3a"
            ],
            [
             0.8888888888888888,
             "#fdca26"
            ],
            [
             1,
             "#f0f921"
            ]
           ],
           "sequentialminus": [
            [
             0,
             "#0d0887"
            ],
            [
             0.1111111111111111,
             "#46039f"
            ],
            [
             0.2222222222222222,
             "#7201a8"
            ],
            [
             0.3333333333333333,
             "#9c179e"
            ],
            [
             0.4444444444444444,
             "#bd3786"
            ],
            [
             0.5555555555555556,
             "#d8576b"
            ],
            [
             0.6666666666666666,
             "#ed7953"
            ],
            [
             0.7777777777777778,
             "#fb9f3a"
            ],
            [
             0.8888888888888888,
             "#fdca26"
            ],
            [
             1,
             "#f0f921"
            ]
           ]
          },
          "colorway": [
           "#636efa",
           "#EF553B",
           "#00cc96",
           "#ab63fa",
           "#FFA15A",
           "#19d3f3",
           "#FF6692",
           "#B6E880",
           "#FF97FF",
           "#FECB52"
          ],
          "font": {
           "color": "#2a3f5f"
          },
          "geo": {
           "bgcolor": "white",
           "lakecolor": "white",
           "landcolor": "#E5ECF6",
           "showlakes": true,
           "showland": true,
           "subunitcolor": "white"
          },
          "hoverlabel": {
           "align": "left"
          },
          "hovermode": "closest",
          "mapbox": {
           "style": "light"
          },
          "paper_bgcolor": "white",
          "plot_bgcolor": "#E5ECF6",
          "polar": {
           "angularaxis": {
            "gridcolor": "white",
            "linecolor": "white",
            "ticks": ""
           },
           "bgcolor": "#E5ECF6",
           "radialaxis": {
            "gridcolor": "white",
            "linecolor": "white",
            "ticks": ""
           }
          },
          "scene": {
           "xaxis": {
            "backgroundcolor": "#E5ECF6",
            "gridcolor": "white",
            "gridwidth": 2,
            "linecolor": "white",
            "showbackground": true,
            "ticks": "",
            "zerolinecolor": "white"
           },
           "yaxis": {
            "backgroundcolor": "#E5ECF6",
            "gridcolor": "white",
            "gridwidth": 2,
            "linecolor": "white",
            "showbackground": true,
            "ticks": "",
            "zerolinecolor": "white"
           },
           "zaxis": {
            "backgroundcolor": "#E5ECF6",
            "gridcolor": "white",
            "gridwidth": 2,
            "linecolor": "white",
            "showbackground": true,
            "ticks": "",
            "zerolinecolor": "white"
           }
          },
          "shapedefaults": {
           "line": {
            "color": "#2a3f5f"
           }
          },
          "ternary": {
           "aaxis": {
            "gridcolor": "white",
            "linecolor": "white",
            "ticks": ""
           },
           "baxis": {
            "gridcolor": "white",
            "linecolor": "white",
            "ticks": ""
           },
           "bgcolor": "#E5ECF6",
           "caxis": {
            "gridcolor": "white",
            "linecolor": "white",
            "ticks": ""
           }
          },
          "title": {
           "x": 0.05
          },
          "xaxis": {
           "automargin": true,
           "gridcolor": "white",
           "linecolor": "white",
           "ticks": "",
           "title": {
            "standoff": 15
           },
           "zerolinecolor": "white",
           "zerolinewidth": 2
          },
          "yaxis": {
           "automargin": true,
           "gridcolor": "white",
           "linecolor": "white",
           "ticks": "",
           "title": {
            "standoff": 15
           },
           "zerolinecolor": "white",
           "zerolinewidth": 2
          }
         }
        },
        "title": {
         "text": "座位预约时间段分布"
        },
        "width": 600,
        "xaxis": {
         "tickformat": "%H:%M",
         "title": {
          "text": "时间"
         }
        },
        "yaxis": {
         "scaleanchor": "x",
         "scaleratio": 1,
         "ticktext": [
          "4B001",
          "4B002",
          "4B003",
          "4B004",
          "4B005",
          "4B006",
          "4B007",
          "4B008",
          "4B009",
          "4B010",
          "4B011",
          "4B012",
          "4B013",
          "4B014",
          "4B015",
          "4B016",
          "4B017",
          "4B018",
          "4B019",
          "4B020",
          "4B021",
          "4B022",
          "4B023",
          "4B024",
          "4B025",
          "4B026",
          "4B027",
          "4B028",
          "4B029",
          "4B030",
          "4B031",
          "4B032",
          "4B033",
          "4B034",
          "4B035",
          "4B036",
          "4B037",
          "4B038",
          "4B039",
          "4B040",
          "4B041",
          "4B042",
          "4B043",
          "4B044",
          "4B045",
          "4B046",
          "4B047",
          "4B048",
          "4B049",
          "4B050",
          "4B051",
          "4B052",
          "4B053",
          "4B054",
          "4B055",
          "4B056",
          "4B057",
          "4B058",
          "4B059",
          "4B060",
          "4B061",
          "4B062",
          "4B063",
          "4B064",
          "4B065",
          "4B066",
          "4B067",
          "4B068",
          "4B069",
          "4B070",
          "4B071",
          "4B072",
          "4B073",
          "4B074",
          "4B075",
          "4B076",
          "4B077",
          "4B078",
          "4B079",
          "4B080",
          "4B081",
          "4B082",
          "4B083",
          "4B084",
          "4B085",
          "4B086",
          "4B087",
          "4B088",
          "4B089",
          "4B090",
          "4B091",
          "4B092",
          "4B093",
          "4B094",
          "4B095",
          "4B096",
          "4B097",
          "4B098",
          "4B099",
          "4B100",
          "4B101",
          "4B102",
          "4B103",
          "4B104",
          "4B105",
          "4B106",
          "4B107",
          "4B108",
          "4B109",
          "4B110",
          "4B111",
          "4B112",
          "4B113",
          "4B114",
          "4B115",
          "4B116",
          "4B117",
          "4B118",
          "4B119",
          "4B120",
          "4B121",
          "4B122",
          "4B123",
          "4B124",
          "4B125",
          "4B126",
          "4B127",
          "4B128",
          "4B129",
          "4B130",
          "4B131",
          "4B132",
          "4B133",
          "4B134",
          "4B135",
          "4B136",
          "4B137",
          "4B138",
          "4B139",
          "4B140",
          "4B141",
          "4B142",
          "4B143",
          "4B144",
          "4B145",
          "4B146",
          "4B147",
          "4B148",
          "4B149",
          "4B150",
          "4B151",
          "4B152",
          "4B153",
          "4B154",
          "4B155",
          "4B156",
          "4B157",
          "4B158",
          "4B159",
          "4B160",
          "4B161",
          "4B162",
          "4B163",
          "4B164",
          "4B165",
          "4B166",
          "4B167",
          "4B168",
          "4B169",
          "4B170",
          "4B171",
          "4B172",
          "4B173",
          "4B174",
          "4B175",
          "4B176",
          "4B177",
          "4B178",
          "4B179",
          "4B180",
          "4B181",
          "4B182",
          "4B183",
          "4B184",
          "4B185",
          "4B186",
          "4B187",
          "4B188",
          "4B189",
          "4B190",
          "4B191",
          "4B192",
          "4B193",
          "4B194",
          "4B195",
          "4B196",
          "4B197",
          "4B198",
          "4B199",
          "4B200",
          "4B201",
          "4B202",
          "4B203",
          "4B204",
          "4B205",
          "4B206",
          "4B207",
          "4B208",
          "4B209",
          "4B210",
          "4B211",
          "4B212",
          "4B213",
          "4B214",
          "4B215",
          "4B216",
          "4B217",
          "4B218",
          "4B219",
          "4B220",
          "4B221",
          "4B222",
          "4B223",
          "4B224",
          "4B225",
          "4B226",
          "4B227",
          "4B228",
          "4B229",
          "4B230",
          "4B231",
          "4B232",
          "4B233",
          "4B234",
          "4B235",
          "4B236",
          "4B237",
          "4B238",
          "4B239",
          "4B240",
          "4B241",
          "4B242",
          "4B243",
          "4B244"
         ],
         "tickvals": [
          0,
          1,
          2,
          3,
          4,
          5,
          6,
          7,
          8,
          9,
          10,
          11,
          12,
          13,
          14,
          15,
          16,
          17,
          18,
          19,
          20,
          21,
          22,
          23,
          24,
          25,
          26,
          27,
          28,
          29,
          30,
          31,
          32,
          33,
          34,
          35,
          36,
          37,
          38,
          39,
          40,
          41,
          42,
          43,
          44,
          45,
          46,
          47,
          48,
          49,
          50,
          51,
          52,
          53,
          54,
          55,
          56,
          57,
          58,
          59,
          60,
          61,
          62,
          63,
          64,
          65,
          66,
          67,
          68,
          69,
          70,
          71,
          72,
          73,
          74,
          75,
          76,
          77,
          78,
          79,
          80,
          81,
          82,
          83,
          84,
          85,
          86,
          87,
          88,
          89,
          90,
          91,
          92,
          93,
          94,
          95,
          96,
          97,
          98,
          99,
          100,
          101,
          102,
          103,
          104,
          105,
          106,
          107,
          108,
          109,
          110,
          111,
          112,
          113,
          114,
          115,
          116,
          117,
          118,
          119,
          120,
          121,
          122,
          123,
          124,
          125,
          126,
          127,
          128,
          129,
          130,
          131,
          132,
          133,
          134,
          135,
          136,
          137,
          138,
          139,
          140,
          141,
          142,
          143,
          144,
          145,
          146,
          147,
          148,
          149,
          150,
          151,
          152,
          153,
          154,
          155,
          156,
          157,
          158,
          159,
          160,
          161,
          162,
          163,
          164,
          165,
          166,
          167,
          168,
          169,
          170,
          171,
          172,
          173,
          174,
          175,
          176,
          177,
          178,
          179,
          180,
          181,
          182,
          183,
          184,
          185,
          186,
          187,
          188,
          189,
          190,
          191,
          192,
          193,
          194,
          195,
          196,
          197,
          198,
          199,
          200,
          201,
          202,
          203,
          204,
          205,
          206,
          207,
          208,
          209,
          210,
          211,
          212,
          213,
          214,
          215,
          216,
          217,
          218,
          219,
          220,
          221,
          222,
          223,
          224,
          225,
          226,
          227,
          228,
          229,
          230,
          231,
          232,
          233,
          234,
          235,
          236,
          237,
          238,
          239,
          240,
          241,
          242,
          243
         ],
         "title": {
          "text": "座位"
         }
        }
       }
      }
     },
     "metadata": {},
     "output_type": "display_data"
    }
   ],
   "source": [
    "# 根据座位名称分组\n",
    "groups = df.groupby(\"devName\")\n",
    "\n",
    "dev_names = df['devName'].unique()\n",
    "name_to_index = {name: i for i, name in enumerate(dev_names)}\n",
    "\n",
    "# 创建散点图\n",
    "fig = go.Figure()\n",
    "\n",
    "for name, group in groups:\n",
    "    y_pos = name_to_index[name]\n",
    "    for start_time, end_time in zip(group['startTime'], group['endTime']):\n",
    "        fig.add_trace(\n",
    "            go.Scatter(\n",
    "                x=[start_time, end_time],\n",
    "                y=[y_pos, y_pos],\n",
    "                mode='lines',\n",
    "                line=dict(color='orange', width=10),\n",
    "                showlegend=False\n",
    "            )\n",
    "        )\n",
    "\n",
    "# 设置x轴和y轴\n",
    "fig.update_xaxes(title_text='时间', tickformat='%H:%M')\n",
    "fig.update_yaxes(title_text='座位', tickvals=list(range(len(dev_names))), ticktext=dev_names)\n",
    "\n",
    "# 设置布局\n",
    "fig.update_layout(\n",
    "    title='座位预约时间段分布',\n",
    "    autosize=False,\n",
    "    width=600,  # 调整图表宽度\n",
    "    height=2400,  # 调整图表高度\n",
    "    margin=dict(l=100, r=50, pad=4),\n",
    "    yaxis=dict(scaleanchor=\"x\", scaleratio=1)\n",
    ")\n",
    "\n",
    "# 显示图表\n",
    "fig.show()"
   ]
  }
 ],
 "metadata": {
  "kernelspec": {
   "display_name": "base",
   "language": "python",
   "name": "python3"
  },
  "language_info": {
   "codemirror_mode": {
    "name": "ipython",
    "version": 3
   },
   "file_extension": ".py",
   "mimetype": "text/x-python",
   "name": "python",
   "nbconvert_exporter": "python",
   "pygments_lexer": "ipython3",
   "version": "3.10.9"
  },
  "orig_nbformat": 4
 },
 "nbformat": 4,
 "nbformat_minor": 2
}
