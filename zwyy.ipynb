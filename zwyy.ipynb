{
 "cells": [
  {
   "cell_type": "code",
   "execution_count": null,
   "metadata": {},
   "outputs": [],
   "source": [
    "import requests\n",
    "import json\n",
    "import re\n",
    "import pandas as pd\n",
    "from datetime import datetime\n",
    "import matplotlib.pyplot as plt\n",
    "import numpy as np\n",
    "import plotly.graph_objs as go\n",
    "from plotly.subplots import make_subplots"
   ]
  },
  {
   "attachments": {},
   "cell_type": "markdown",
   "metadata": {},
   "source": [
    "默认方式:"
   ]
  },
  {
   "cell_type": "code",
   "execution_count": null,
   "metadata": {},
   "outputs": [],
   "source": [
    "curl = input(\"请输入curl命令：\")"
   ]
  },
  {
   "attachments": {},
   "cell_type": "markdown",
   "metadata": {},
   "source": [
    "需要先运行init.ipynb:"
   ]
  },
  {
   "cell_type": "code",
   "execution_count": null,
   "metadata": {},
   "outputs": [],
   "source": [
    "# with open(\"tokens.txt\", \"r\") as token_file:\n",
    "#     curl=token_file.readline().strip()"
   ]
  },
  {
   "cell_type": "code",
   "execution_count": null,
   "metadata": {},
   "outputs": [],
   "source": [
    "token_match = re.search(r'token:\\s*([a-zA-Z0-9]+)', curl)\n",
    "ic_cookie_match = re.search(r'ic-cookie=([a-zA-Z0-9-]+)', curl)\n",
    "token = token_match.group(1)\n",
    "ic_cookie = ic_cookie_match.group(1)\n"
   ]
  },
  {
   "cell_type": "code",
   "execution_count": null,
   "metadata": {},
   "outputs": [],
   "source": [
    "datetime_now = datetime.now().strftime('%Y%m%d')\n",
    "datetime_now=datetime_now.replace('28','29')"
   ]
  },
  {
   "cell_type": "code",
   "execution_count": null,
   "metadata": {},
   "outputs": [],
   "source": [
    "url = 'http://libzwyy.jlu.edu.cn/ic-web/seatMenu'\n",
    "\n",
    "headers = {\n",
    "    'token': token,\n",
    "}\n",
    "\n",
    "cookies = {\n",
    "    'ic-cookie': ic_cookie,\n",
    "}\n",
    "\n",
    "response = requests.get(url, headers=headers, cookies=cookies)\n",
    "data_dict = json.loads(response.text)\n",
    "learning_space_ids = []\n",
    "\n",
    "def extract_ids(space, floor_name):\n",
    "    if \"children\" in space:\n",
    "        for child in space[\"children\"]:\n",
    "            learning_space_ids.append([floor_name + \" - \" + child[\"name\"], child[\"id\"]])\n",
    "\n",
    "for floor in data_dict[\"data\"]:\n",
    "    extract_ids(floor, floor[\"name\"])"
   ]
  },
  {
   "cell_type": "code",
   "execution_count": null,
   "metadata": {},
   "outputs": [],
   "source": [
    "import ipywidgets as widgets\n",
    "from IPython.display import display\n",
    "\n",
    "def on_change(selected_option):\n",
    "    global option_value\n",
    "    option_value = selected_option\n",
    "    print(f\"您选择的是: {selected_option}\")\n",
    "\n",
    "options = learning_space_ids\n",
    "\n",
    "dropdown = widgets.interact(on_change, selected_option=options)"
   ]
  },
  {
   "cell_type": "code",
   "execution_count": null,
   "metadata": {},
   "outputs": [],
   "source": [
    "url = 'http://libzwyy.jlu.edu.cn/ic-web/reserve?roomIds='+str(option_value)+'&resvDates='+datetime_now+'&sysKind=8'\n",
    "\n",
    "response = requests.get(url, headers=headers, cookies=cookies)\n",
    "\n",
    "if response.status_code == 200:\n",
    "    data = json.loads(response.text)\n",
    "    devices_data = data[\"data\"]\n",
    "else:\n",
    "    print(f\"Error: Request failed with status code {response.status_code}\")"
   ]
  },
  {
   "cell_type": "code",
   "execution_count": null,
   "metadata": {},
   "outputs": [],
   "source": [
    "# 提取 devName、startTime 和 endTime\n",
    "table_data = []\n",
    "\n",
    "for device in devices_data:\n",
    "    dev_name = device[\"devName\"]\n",
    "    resv_info = device[\"resvInfo\"]\n",
    "    if len(resv_info) == 0:\n",
    "        table_data.append([dev_name, datetime.now().strftime('%Y-%m-%d %H:%M:%S'), datetime.now().strftime('%Y-%m-%d %H:%M:%S')])\n",
    "    for resv in resv_info:\n",
    "        start_time = datetime.fromtimestamp(resv[\"startTime\"] / 1000).strftime('%Y-%m-%d %H:%M:%S')\n",
    "        end_time = datetime.fromtimestamp(resv[\"endTime\"] / 1000).strftime('%Y-%m-%d %H:%M:%S')\n",
    "        table_data.append([dev_name, start_time, end_time])"
   ]
  },
  {
   "cell_type": "code",
   "execution_count": null,
   "metadata": {},
   "outputs": [],
   "source": [
    "# 使用 pandas 创建 DataFrame\n",
    "columns = [\"devName\", \"startTime\", \"endTime\"]\n",
    "df = pd.DataFrame(table_data, columns=columns)"
   ]
  },
  {
   "cell_type": "code",
   "execution_count": null,
   "metadata": {},
   "outputs": [],
   "source": [
    "df[\"startTime\"] = pd.to_datetime(df[\"startTime\"])\n",
    "df[\"endTime\"] = pd.to_datetime(df[\"endTime\"])\n",
    "df['duration'] = (df['endTime'] - df['startTime']).dt.seconds / 3600"
   ]
  },
  {
   "cell_type": "code",
   "execution_count": null,
   "metadata": {},
   "outputs": [],
   "source": [
    "# 根据座位名称分组\n",
    "groups = df.groupby(\"devName\")\n",
    "\n",
    "dev_names = df['devName'].unique()\n",
    "name_to_index = {name: i for i, name in enumerate(dev_names)}\n",
    "\n",
    "# 创建散点图\n",
    "fig = go.Figure()\n",
    "\n",
    "for name, group in groups:\n",
    "    y_pos = name_to_index[name]\n",
    "    for start_time, end_time in zip(group['startTime'], group['endTime']):\n",
    "        fig.add_trace(\n",
    "            go.Scatter(\n",
    "                x=[start_time, end_time],\n",
    "                y=[y_pos, y_pos],\n",
    "                mode='lines',\n",
    "                line=dict(color='orange', width=10),\n",
    "                showlegend=False\n",
    "            )\n",
    "        )\n",
    "\n",
    "# 设置x轴和y轴\n",
    "fig.update_xaxes(title_text='时间', tickformat='%H:%M')\n",
    "fig.update_yaxes(title_text='座位', tickvals=list(range(len(dev_names))), ticktext=dev_names)\n",
    "\n",
    "# 设置布局\n",
    "fig.update_layout(\n",
    "    title='座位预约时间段分布',\n",
    "    autosize=False,\n",
    "    width=600,  # 调整图表宽度\n",
    "    height=2400,  # 调整图表高度\n",
    "    margin=dict(l=100, r=50, pad=4),\n",
    "    yaxis=dict(scaleanchor=\"x\", scaleratio=1)\n",
    ")\n",
    "\n",
    "# 显示图表\n",
    "fig.show()"
   ]
  }
 ],
 "metadata": {
  "kernelspec": {
   "display_name": "base",
   "language": "python",
   "name": "python3"
  },
  "language_info": {
   "codemirror_mode": {
    "name": "ipython",
    "version": 3
   },
   "file_extension": ".py",
   "mimetype": "text/x-python",
   "name": "python",
   "nbconvert_exporter": "python",
   "pygments_lexer": "ipython3",
   "version": "3.10.9"
  },
  "orig_nbformat": 4
 },
 "nbformat": 4,
 "nbformat_minor": 2
}
