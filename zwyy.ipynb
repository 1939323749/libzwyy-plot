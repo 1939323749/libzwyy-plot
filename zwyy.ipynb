{
 "cells": [
  {
   "cell_type": "code",
   "execution_count": 8,
   "metadata": {},
   "outputs": [],
   "source": [
    "import json\n",
    "import pandas as pd\n",
    "from datetime import datetime\n",
    "import matplotlib.pyplot as plt\n",
    "import numpy as np\n",
    "import plotly.graph_objs as go\n",
    "from plotly.subplots import make_subplots"
   ]
  },
  {
   "cell_type": "code",
   "execution_count": 9,
   "metadata": {},
   "outputs": [],
   "source": [
    "with open('data.json', 'r', encoding='utf-8') as file:\n",
    "    json_data = file.read()\n",
    "\n",
    "data = json.loads(json_data)\n",
    "devices_data = data[\"data\"]"
   ]
  },
  {
   "cell_type": "code",
   "execution_count": 10,
   "metadata": {},
   "outputs": [],
   "source": [
    "# 提取 devName、startTime 和 endTime\n",
    "table_data = []\n",
    "\n",
    "for device in devices_data:\n",
    "    dev_name = device[\"devName\"]\n",
    "    resv_info = device[\"resvInfo\"]\n",
    "    for resv in resv_info:\n",
    "        start_time = datetime.fromtimestamp(resv[\"startTime\"] / 1000).strftime('%Y-%m-%d %H:%M:%S')\n",
    "        end_time = datetime.fromtimestamp(resv[\"endTime\"] / 1000).strftime('%Y-%m-%d %H:%M:%S')\n",
    "        table_data.append([dev_name, start_time, end_time])"
   ]
  },
  {
   "cell_type": "code",
   "execution_count": 11,
   "metadata": {},
   "outputs": [],
   "source": [
    "# 使用 pandas 创建 DataFrame\n",
    "columns = [\"devName\", \"startTime\", \"endTime\"]\n",
    "df = pd.DataFrame(table_data, columns=columns)"
   ]
  },
  {
   "cell_type": "code",
   "execution_count": 12,
   "metadata": {},
   "outputs": [],
   "source": [
    "df[\"startTime\"] = pd.to_datetime(df[\"startTime\"])\n",
    "df[\"endTime\"] = pd.to_datetime(df[\"endTime\"])\n",
    "df['duration'] = (df['endTime'] - df['startTime']).dt.seconds / 3600"
   ]
  },
  {
   "cell_type": "code",
   "execution_count": 13,
   "metadata": {},
   "outputs": [
    {
     "data": {
      "application/vnd.plotly.v1+json": {
       "config": {
        "plotlyServerURL": "https://plot.ly"
       },
       "data": [
        {
         "line": {
          "color": "orange",
          "width": 10
         },
         "mode": "lines",
         "showlegend": false,
         "type": "scatter",
         "x": [
          "2023-06-27T09:00:00",
          "2023-06-27T22:00:00"
         ],
         "y": [
          0,
          0
         ]
        },
        {
         "line": {
          "color": "orange",
          "width": 10
         },
         "mode": "lines",
         "showlegend": false,
         "type": "scatter",
         "x": [
          "2023-06-27T14:00:00",
          "2023-06-27T22:00:00"
         ],
         "y": [
          1,
          1
         ]
        },
        {
         "line": {
          "color": "orange",
          "width": 10
         },
         "mode": "lines",
         "showlegend": false,
         "type": "scatter",
         "x": [
          "2023-06-27T08:30:00",
          "2023-06-27T21:10:00"
         ],
         "y": [
          2,
          2
         ]
        },
        {
         "line": {
          "color": "orange",
          "width": 10
         },
         "mode": "lines",
         "showlegend": false,
         "type": "scatter",
         "x": [
          "2023-06-27T09:30:00",
          "2023-06-27T21:10:00"
         ],
         "y": [
          3,
          3
         ]
        },
        {
         "line": {
          "color": "orange",
          "width": 10
         },
         "mode": "lines",
         "showlegend": false,
         "type": "scatter",
         "x": [
          "2023-06-27T09:30:00",
          "2023-06-27T21:10:00"
         ],
         "y": [
          4,
          4
         ]
        },
        {
         "line": {
          "color": "orange",
          "width": 10
         },
         "mode": "lines",
         "showlegend": false,
         "type": "scatter",
         "x": [
          "2023-06-27T09:30:00",
          "2023-06-27T21:10:00"
         ],
         "y": [
          5,
          5
         ]
        },
        {
         "line": {
          "color": "orange",
          "width": 10
         },
         "mode": "lines",
         "showlegend": false,
         "type": "scatter",
         "x": [
          "2023-06-27T08:01:00",
          "2023-06-27T22:00:00"
         ],
         "y": [
          6,
          6
         ]
        },
        {
         "line": {
          "color": "orange",
          "width": 10
         },
         "mode": "lines",
         "showlegend": false,
         "type": "scatter",
         "x": [
          "2023-06-27T07:50:00",
          "2023-06-27T22:00:00"
         ],
         "y": [
          7,
          7
         ]
        },
        {
         "line": {
          "color": "orange",
          "width": 10
         },
         "mode": "lines",
         "showlegend": false,
         "type": "scatter",
         "x": [
          "2023-06-27T08:30:00",
          "2023-06-27T22:00:00"
         ],
         "y": [
          8,
          8
         ]
        },
        {
         "line": {
          "color": "orange",
          "width": 10
         },
         "mode": "lines",
         "showlegend": false,
         "type": "scatter",
         "x": [
          "2023-06-27T09:30:00",
          "2023-06-27T21:10:00"
         ],
         "y": [
          9,
          9
         ]
        },
        {
         "line": {
          "color": "orange",
          "width": 10
         },
         "mode": "lines",
         "showlegend": false,
         "type": "scatter",
         "x": [
          "2023-06-27T08:00:00",
          "2023-06-27T22:00:00"
         ],
         "y": [
          10,
          10
         ]
        },
        {
         "line": {
          "color": "orange",
          "width": 10
         },
         "mode": "lines",
         "showlegend": false,
         "type": "scatter",
         "x": [
          "2023-06-27T14:00:00",
          "2023-06-27T21:10:00"
         ],
         "y": [
          11,
          11
         ]
        },
        {
         "line": {
          "color": "orange",
          "width": 10
         },
         "mode": "lines",
         "showlegend": false,
         "type": "scatter",
         "x": [
          "2023-06-27T08:30:00",
          "2023-06-27T22:00:00"
         ],
         "y": [
          12,
          12
         ]
        },
        {
         "line": {
          "color": "orange",
          "width": 10
         },
         "mode": "lines",
         "showlegend": false,
         "type": "scatter",
         "x": [
          "2023-06-27T09:30:00",
          "2023-06-27T22:00:00"
         ],
         "y": [
          13,
          13
         ]
        },
        {
         "line": {
          "color": "orange",
          "width": 10
         },
         "mode": "lines",
         "showlegend": false,
         "type": "scatter",
         "x": [
          "2023-06-27T09:30:00",
          "2023-06-27T22:00:00"
         ],
         "y": [
          14,
          14
         ]
        },
        {
         "line": {
          "color": "orange",
          "width": 10
         },
         "mode": "lines",
         "showlegend": false,
         "type": "scatter",
         "x": [
          "2023-06-27T10:50:00",
          "2023-06-27T22:00:00"
         ],
         "y": [
          15,
          15
         ]
        },
        {
         "line": {
          "color": "orange",
          "width": 10
         },
         "mode": "lines",
         "showlegend": false,
         "type": "scatter",
         "x": [
          "2023-06-27T10:00:00",
          "2023-06-27T22:00:00"
         ],
         "y": [
          16,
          16
         ]
        },
        {
         "line": {
          "color": "orange",
          "width": 10
         },
         "mode": "lines",
         "showlegend": false,
         "type": "scatter",
         "x": [
          "2023-06-27T08:40:00",
          "2023-06-27T22:00:00"
         ],
         "y": [
          17,
          17
         ]
        },
        {
         "line": {
          "color": "orange",
          "width": 10
         },
         "mode": "lines",
         "showlegend": false,
         "type": "scatter",
         "x": [
          "2023-06-27T07:20:00",
          "2023-06-27T22:00:00"
         ],
         "y": [
          18,
          18
         ]
        },
        {
         "line": {
          "color": "orange",
          "width": 10
         },
         "mode": "lines",
         "showlegend": false,
         "type": "scatter",
         "x": [
          "2023-06-27T10:00:00",
          "2023-06-27T22:00:00"
         ],
         "y": [
          19,
          19
         ]
        },
        {
         "line": {
          "color": "orange",
          "width": 10
         },
         "mode": "lines",
         "showlegend": false,
         "type": "scatter",
         "x": [
          "2023-06-27T08:00:00",
          "2023-06-27T15:40:00"
         ],
         "y": [
          20,
          20
         ]
        },
        {
         "line": {
          "color": "orange",
          "width": 10
         },
         "mode": "lines",
         "showlegend": false,
         "type": "scatter",
         "x": [
          "2023-06-27T15:40:00",
          "2023-06-27T21:10:00"
         ],
         "y": [
          20,
          20
         ]
        },
        {
         "line": {
          "color": "orange",
          "width": 10
         },
         "mode": "lines",
         "showlegend": false,
         "type": "scatter",
         "x": [
          "2023-06-27T08:10:00",
          "2023-06-27T22:00:00"
         ],
         "y": [
          21,
          21
         ]
        },
        {
         "line": {
          "color": "orange",
          "width": 10
         },
         "mode": "lines",
         "showlegend": false,
         "type": "scatter",
         "x": [
          "2023-06-27T08:50:00",
          "2023-06-27T22:00:00"
         ],
         "y": [
          22,
          22
         ]
        },
        {
         "line": {
          "color": "orange",
          "width": 10
         },
         "mode": "lines",
         "showlegend": false,
         "type": "scatter",
         "x": [
          "2023-06-27T08:30:00",
          "2023-06-27T22:00:00"
         ],
         "y": [
          23,
          23
         ]
        },
        {
         "line": {
          "color": "orange",
          "width": 10
         },
         "mode": "lines",
         "showlegend": false,
         "type": "scatter",
         "x": [
          "2023-06-27T12:30:00",
          "2023-06-27T21:10:00"
         ],
         "y": [
          24,
          24
         ]
        },
        {
         "line": {
          "color": "orange",
          "width": 10
         },
         "mode": "lines",
         "showlegend": false,
         "type": "scatter",
         "x": [
          "2023-06-27T09:30:00",
          "2023-06-27T12:30:00"
         ],
         "y": [
          24,
          24
         ]
        },
        {
         "line": {
          "color": "orange",
          "width": 10
         },
         "mode": "lines",
         "showlegend": false,
         "type": "scatter",
         "x": [
          "2023-06-27T08:40:00",
          "2023-06-27T22:00:00"
         ],
         "y": [
          25,
          25
         ]
        },
        {
         "line": {
          "color": "orange",
          "width": 10
         },
         "mode": "lines",
         "showlegend": false,
         "type": "scatter",
         "x": [
          "2023-06-27T09:00:00",
          "2023-06-27T22:00:00"
         ],
         "y": [
          26,
          26
         ]
        },
        {
         "line": {
          "color": "orange",
          "width": 10
         },
         "mode": "lines",
         "showlegend": false,
         "type": "scatter",
         "x": [
          "2023-06-27T09:30:00",
          "2023-06-27T21:10:00"
         ],
         "y": [
          27,
          27
         ]
        },
        {
         "line": {
          "color": "orange",
          "width": 10
         },
         "mode": "lines",
         "showlegend": false,
         "type": "scatter",
         "x": [
          "2023-06-27T08:50:00",
          "2023-06-27T21:10:00"
         ],
         "y": [
          28,
          28
         ]
        },
        {
         "line": {
          "color": "orange",
          "width": 10
         },
         "mode": "lines",
         "showlegend": false,
         "type": "scatter",
         "x": [
          "2023-06-27T08:40:00",
          "2023-06-27T21:10:00"
         ],
         "y": [
          29,
          29
         ]
        },
        {
         "line": {
          "color": "orange",
          "width": 10
         },
         "mode": "lines",
         "showlegend": false,
         "type": "scatter",
         "x": [
          "2023-06-27T08:00:00",
          "2023-06-27T22:00:00"
         ],
         "y": [
          30,
          30
         ]
        },
        {
         "line": {
          "color": "orange",
          "width": 10
         },
         "mode": "lines",
         "showlegend": false,
         "type": "scatter",
         "x": [
          "2023-06-27T09:00:00",
          "2023-06-27T21:10:00"
         ],
         "y": [
          31,
          31
         ]
        },
        {
         "line": {
          "color": "orange",
          "width": 10
         },
         "mode": "lines",
         "showlegend": false,
         "type": "scatter",
         "x": [
          "2023-06-27T07:30:00",
          "2023-06-27T22:00:00"
         ],
         "y": [
          32,
          32
         ]
        },
        {
         "line": {
          "color": "orange",
          "width": 10
         },
         "mode": "lines",
         "showlegend": false,
         "type": "scatter",
         "x": [
          "2023-06-27T08:40:00",
          "2023-06-27T22:00:00"
         ],
         "y": [
          33,
          33
         ]
        },
        {
         "line": {
          "color": "orange",
          "width": 10
         },
         "mode": "lines",
         "showlegend": false,
         "type": "scatter",
         "x": [
          "2023-06-27T09:30:00",
          "2023-06-27T22:00:00"
         ],
         "y": [
          34,
          34
         ]
        },
        {
         "line": {
          "color": "orange",
          "width": 10
         },
         "mode": "lines",
         "showlegend": false,
         "type": "scatter",
         "x": [
          "2023-06-27T13:30:00",
          "2023-06-27T22:00:00"
         ],
         "y": [
          35,
          35
         ]
        },
        {
         "line": {
          "color": "orange",
          "width": 10
         },
         "mode": "lines",
         "showlegend": false,
         "type": "scatter",
         "x": [
          "2023-06-27T09:30:00",
          "2023-06-27T22:00:00"
         ],
         "y": [
          36,
          36
         ]
        },
        {
         "line": {
          "color": "orange",
          "width": 10
         },
         "mode": "lines",
         "showlegend": false,
         "type": "scatter",
         "x": [
          "2023-06-27T11:30:00",
          "2023-06-27T22:00:00"
         ],
         "y": [
          37,
          37
         ]
        },
        {
         "line": {
          "color": "orange",
          "width": 10
         },
         "mode": "lines",
         "showlegend": false,
         "type": "scatter",
         "x": [
          "2023-06-27T08:30:00",
          "2023-06-27T22:00:00"
         ],
         "y": [
          38,
          38
         ]
        },
        {
         "line": {
          "color": "orange",
          "width": 10
         },
         "mode": "lines",
         "showlegend": false,
         "type": "scatter",
         "x": [
          "2023-06-27T14:00:00",
          "2023-06-27T22:00:00"
         ],
         "y": [
          39,
          39
         ]
        },
        {
         "line": {
          "color": "orange",
          "width": 10
         },
         "mode": "lines",
         "showlegend": false,
         "type": "scatter",
         "x": [
          "2023-06-27T09:00:00",
          "2023-06-27T22:00:00"
         ],
         "y": [
          40,
          40
         ]
        },
        {
         "line": {
          "color": "orange",
          "width": 10
         },
         "mode": "lines",
         "showlegend": false,
         "type": "scatter",
         "x": [
          "2023-06-27T08:30:00",
          "2023-06-27T22:00:00"
         ],
         "y": [
          41,
          41
         ]
        },
        {
         "line": {
          "color": "orange",
          "width": 10
         },
         "mode": "lines",
         "showlegend": false,
         "type": "scatter",
         "x": [
          "2023-06-27T14:00:00",
          "2023-06-27T22:00:00"
         ],
         "y": [
          42,
          42
         ]
        },
        {
         "line": {
          "color": "orange",
          "width": 10
         },
         "mode": "lines",
         "showlegend": false,
         "type": "scatter",
         "x": [
          "2023-06-27T08:30:00",
          "2023-06-27T14:00:00"
         ],
         "y": [
          42,
          42
         ]
        },
        {
         "line": {
          "color": "orange",
          "width": 10
         },
         "mode": "lines",
         "showlegend": false,
         "type": "scatter",
         "x": [
          "2023-06-27T09:00:00",
          "2023-06-27T22:00:00"
         ],
         "y": [
          43,
          43
         ]
        },
        {
         "line": {
          "color": "orange",
          "width": 10
         },
         "mode": "lines",
         "showlegend": false,
         "type": "scatter",
         "x": [
          "2023-06-27T09:00:00",
          "2023-06-27T21:50:00"
         ],
         "y": [
          44,
          44
         ]
        },
        {
         "line": {
          "color": "orange",
          "width": 10
         },
         "mode": "lines",
         "showlegend": false,
         "type": "scatter",
         "x": [
          "2023-06-27T08:30:00",
          "2023-06-27T22:00:00"
         ],
         "y": [
          45,
          45
         ]
        },
        {
         "line": {
          "color": "orange",
          "width": 10
         },
         "mode": "lines",
         "showlegend": false,
         "type": "scatter",
         "x": [
          "2023-06-27T09:00:00",
          "2023-06-27T22:00:00"
         ],
         "y": [
          46,
          46
         ]
        },
        {
         "line": {
          "color": "orange",
          "width": 10
         },
         "mode": "lines",
         "showlegend": false,
         "type": "scatter",
         "x": [
          "2023-06-27T10:00:00",
          "2023-06-27T22:00:00"
         ],
         "y": [
          47,
          47
         ]
        },
        {
         "line": {
          "color": "orange",
          "width": 10
         },
         "mode": "lines",
         "showlegend": false,
         "type": "scatter",
         "x": [
          "2023-06-27T08:30:00",
          "2023-06-27T13:00:00"
         ],
         "y": [
          48,
          48
         ]
        },
        {
         "line": {
          "color": "orange",
          "width": 10
         },
         "mode": "lines",
         "showlegend": false,
         "type": "scatter",
         "x": [
          "2023-06-27T13:00:00",
          "2023-06-27T22:00:00"
         ],
         "y": [
          48,
          48
         ]
        },
        {
         "line": {
          "color": "orange",
          "width": 10
         },
         "mode": "lines",
         "showlegend": false,
         "type": "scatter",
         "x": [
          "2023-06-27T08:30:00",
          "2023-06-27T21:10:00"
         ],
         "y": [
          49,
          49
         ]
        },
        {
         "line": {
          "color": "orange",
          "width": 10
         },
         "mode": "lines",
         "showlegend": false,
         "type": "scatter",
         "x": [
          "2023-06-27T08:30:00",
          "2023-06-27T22:00:00"
         ],
         "y": [
          50,
          50
         ]
        },
        {
         "line": {
          "color": "orange",
          "width": 10
         },
         "mode": "lines",
         "showlegend": false,
         "type": "scatter",
         "x": [
          "2023-06-27T08:30:00",
          "2023-06-27T22:00:00"
         ],
         "y": [
          51,
          51
         ]
        },
        {
         "line": {
          "color": "orange",
          "width": 10
         },
         "mode": "lines",
         "showlegend": false,
         "type": "scatter",
         "x": [
          "2023-06-27T09:00:00",
          "2023-06-27T22:00:00"
         ],
         "y": [
          52,
          52
         ]
        },
        {
         "line": {
          "color": "orange",
          "width": 10
         },
         "mode": "lines",
         "showlegend": false,
         "type": "scatter",
         "x": [
          "2023-06-27T10:00:00",
          "2023-06-27T22:00:00"
         ],
         "y": [
          53,
          53
         ]
        },
        {
         "line": {
          "color": "orange",
          "width": 10
         },
         "mode": "lines",
         "showlegend": false,
         "type": "scatter",
         "x": [
          "2023-06-27T08:00:00",
          "2023-06-27T22:00:00"
         ],
         "y": [
          54,
          54
         ]
        },
        {
         "line": {
          "color": "orange",
          "width": 10
         },
         "mode": "lines",
         "showlegend": false,
         "type": "scatter",
         "x": [
          "2023-06-27T12:30:00",
          "2023-06-27T22:00:00"
         ],
         "y": [
          55,
          55
         ]
        },
        {
         "line": {
          "color": "orange",
          "width": 10
         },
         "mode": "lines",
         "showlegend": false,
         "type": "scatter",
         "x": [
          "2023-06-27T08:30:00",
          "2023-06-27T12:30:00"
         ],
         "y": [
          55,
          55
         ]
        },
        {
         "line": {
          "color": "orange",
          "width": 10
         },
         "mode": "lines",
         "showlegend": false,
         "type": "scatter",
         "x": [
          "2023-06-27T08:30:00",
          "2023-06-27T13:30:00"
         ],
         "y": [
          56,
          56
         ]
        },
        {
         "line": {
          "color": "orange",
          "width": 10
         },
         "mode": "lines",
         "showlegend": false,
         "type": "scatter",
         "x": [
          "2023-06-27T13:30:00",
          "2023-06-27T22:00:00"
         ],
         "y": [
          56,
          56
         ]
        },
        {
         "line": {
          "color": "orange",
          "width": 10
         },
         "mode": "lines",
         "showlegend": false,
         "type": "scatter",
         "x": [
          "2023-06-27T09:00:00",
          "2023-06-27T22:00:00"
         ],
         "y": [
          57,
          57
         ]
        },
        {
         "line": {
          "color": "orange",
          "width": 10
         },
         "mode": "lines",
         "showlegend": false,
         "type": "scatter",
         "x": [
          "2023-06-27T08:00:00",
          "2023-06-27T22:00:00"
         ],
         "y": [
          58,
          58
         ]
        },
        {
         "line": {
          "color": "orange",
          "width": 10
         },
         "mode": "lines",
         "showlegend": false,
         "type": "scatter",
         "x": [
          "2023-06-27T09:30:00",
          "2023-06-27T22:00:00"
         ],
         "y": [
          59,
          59
         ]
        },
        {
         "line": {
          "color": "orange",
          "width": 10
         },
         "mode": "lines",
         "showlegend": false,
         "type": "scatter",
         "x": [
          "2023-06-27T08:40:00",
          "2023-06-27T22:00:00"
         ],
         "y": [
          60,
          60
         ]
        },
        {
         "line": {
          "color": "orange",
          "width": 10
         },
         "mode": "lines",
         "showlegend": false,
         "type": "scatter",
         "x": [
          "2023-06-27T09:30:00",
          "2023-06-27T22:00:00"
         ],
         "y": [
          61,
          61
         ]
        },
        {
         "line": {
          "color": "orange",
          "width": 10
         },
         "mode": "lines",
         "showlegend": false,
         "type": "scatter",
         "x": [
          "2023-06-27T08:30:00",
          "2023-06-27T22:00:00"
         ],
         "y": [
          62,
          62
         ]
        },
        {
         "line": {
          "color": "orange",
          "width": 10
         },
         "mode": "lines",
         "showlegend": false,
         "type": "scatter",
         "x": [
          "2023-06-27T09:30:00",
          "2023-06-27T13:30:00"
         ],
         "y": [
          63,
          63
         ]
        },
        {
         "line": {
          "color": "orange",
          "width": 10
         },
         "mode": "lines",
         "showlegend": false,
         "type": "scatter",
         "x": [
          "2023-06-27T13:30:00",
          "2023-06-27T22:00:00"
         ],
         "y": [
          63,
          63
         ]
        },
        {
         "line": {
          "color": "orange",
          "width": 10
         },
         "mode": "lines",
         "showlegend": false,
         "type": "scatter",
         "x": [
          "2023-06-27T08:30:00",
          "2023-06-27T21:10:00"
         ],
         "y": [
          64,
          64
         ]
        },
        {
         "line": {
          "color": "orange",
          "width": 10
         },
         "mode": "lines",
         "showlegend": false,
         "type": "scatter",
         "x": [
          "2023-06-27T08:30:00",
          "2023-06-27T22:00:00"
         ],
         "y": [
          65,
          65
         ]
        },
        {
         "line": {
          "color": "orange",
          "width": 10
         },
         "mode": "lines",
         "showlegend": false,
         "type": "scatter",
         "x": [
          "2023-06-27T08:00:00",
          "2023-06-27T22:00:00"
         ],
         "y": [
          66,
          66
         ]
        },
        {
         "line": {
          "color": "orange",
          "width": 10
         },
         "mode": "lines",
         "showlegend": false,
         "type": "scatter",
         "x": [
          "2023-06-27T08:10:00",
          "2023-06-27T12:30:00"
         ],
         "y": [
          67,
          67
         ]
        },
        {
         "line": {
          "color": "orange",
          "width": 10
         },
         "mode": "lines",
         "showlegend": false,
         "type": "scatter",
         "x": [
          "2023-06-27T12:30:00",
          "2023-06-27T21:10:00"
         ],
         "y": [
          67,
          67
         ]
        },
        {
         "line": {
          "color": "orange",
          "width": 10
         },
         "mode": "lines",
         "showlegend": false,
         "type": "scatter",
         "x": [
          "2023-06-27T09:30:00",
          "2023-06-27T13:20:00"
         ],
         "y": [
          68,
          68
         ]
        },
        {
         "line": {
          "color": "orange",
          "width": 10
         },
         "mode": "lines",
         "showlegend": false,
         "type": "scatter",
         "x": [
          "2023-06-27T13:20:00",
          "2023-06-27T21:10:00"
         ],
         "y": [
          68,
          68
         ]
        },
        {
         "line": {
          "color": "orange",
          "width": 10
         },
         "mode": "lines",
         "showlegend": false,
         "type": "scatter",
         "x": [
          "2023-06-27T08:30:00",
          "2023-06-27T22:00:00"
         ],
         "y": [
          69,
          69
         ]
        },
        {
         "line": {
          "color": "orange",
          "width": 10
         },
         "mode": "lines",
         "showlegend": false,
         "type": "scatter",
         "x": [
          "2023-06-27T08:30:00",
          "2023-06-27T22:00:00"
         ],
         "y": [
          70,
          70
         ]
        },
        {
         "line": {
          "color": "orange",
          "width": 10
         },
         "mode": "lines",
         "showlegend": false,
         "type": "scatter",
         "x": [
          "2023-06-27T08:30:00",
          "2023-06-27T22:00:00"
         ],
         "y": [
          71,
          71
         ]
        },
        {
         "line": {
          "color": "orange",
          "width": 10
         },
         "mode": "lines",
         "showlegend": false,
         "type": "scatter",
         "x": [
          "2023-06-27T09:30:00",
          "2023-06-27T22:00:00"
         ],
         "y": [
          72,
          72
         ]
        },
        {
         "line": {
          "color": "orange",
          "width": 10
         },
         "mode": "lines",
         "showlegend": false,
         "type": "scatter",
         "x": [
          "2023-06-27T09:00:00",
          "2023-06-27T21:10:00"
         ],
         "y": [
          73,
          73
         ]
        },
        {
         "line": {
          "color": "orange",
          "width": 10
         },
         "mode": "lines",
         "showlegend": false,
         "type": "scatter",
         "x": [
          "2023-06-27T08:00:00",
          "2023-06-27T21:10:00"
         ],
         "y": [
          74,
          74
         ]
        },
        {
         "line": {
          "color": "orange",
          "width": 10
         },
         "mode": "lines",
         "showlegend": false,
         "type": "scatter",
         "x": [
          "2023-06-27T13:30:00",
          "2023-06-27T22:00:00"
         ],
         "y": [
          75,
          75
         ]
        },
        {
         "line": {
          "color": "orange",
          "width": 10
         },
         "mode": "lines",
         "showlegend": false,
         "type": "scatter",
         "x": [
          "2023-06-27T09:30:00",
          "2023-06-27T12:00:00"
         ],
         "y": [
          75,
          75
         ]
        },
        {
         "line": {
          "color": "orange",
          "width": 10
         },
         "mode": "lines",
         "showlegend": false,
         "type": "scatter",
         "x": [
          "2023-06-27T08:50:00",
          "2023-06-27T22:00:00"
         ],
         "y": [
          76,
          76
         ]
        },
        {
         "line": {
          "color": "orange",
          "width": 10
         },
         "mode": "lines",
         "showlegend": false,
         "type": "scatter",
         "x": [
          "2023-06-27T10:00:00",
          "2023-06-27T22:00:00"
         ],
         "y": [
          77,
          77
         ]
        },
        {
         "line": {
          "color": "orange",
          "width": 10
         },
         "mode": "lines",
         "showlegend": false,
         "type": "scatter",
         "x": [
          "2023-06-27T08:30:00",
          "2023-06-27T22:00:00"
         ],
         "y": [
          78,
          78
         ]
        },
        {
         "line": {
          "color": "orange",
          "width": 10
         },
         "mode": "lines",
         "showlegend": false,
         "type": "scatter",
         "x": [
          "2023-06-27T12:00:00",
          "2023-06-27T22:00:00"
         ],
         "y": [
          79,
          79
         ]
        },
        {
         "line": {
          "color": "orange",
          "width": 10
         },
         "mode": "lines",
         "showlegend": false,
         "type": "scatter",
         "x": [
          "2023-06-27T09:10:00",
          "2023-06-27T12:00:00"
         ],
         "y": [
          79,
          79
         ]
        },
        {
         "line": {
          "color": "orange",
          "width": 10
         },
         "mode": "lines",
         "showlegend": false,
         "type": "scatter",
         "x": [
          "2023-06-27T09:10:00",
          "2023-06-27T22:00:00"
         ],
         "y": [
          80,
          80
         ]
        },
        {
         "line": {
          "color": "orange",
          "width": 10
         },
         "mode": "lines",
         "showlegend": false,
         "type": "scatter",
         "x": [
          "2023-06-27T09:30:00",
          "2023-06-27T22:00:00"
         ],
         "y": [
          81,
          81
         ]
        },
        {
         "line": {
          "color": "orange",
          "width": 10
         },
         "mode": "lines",
         "showlegend": false,
         "type": "scatter",
         "x": [
          "2023-06-27T09:30:00",
          "2023-06-27T22:00:00"
         ],
         "y": [
          82,
          82
         ]
        },
        {
         "line": {
          "color": "orange",
          "width": 10
         },
         "mode": "lines",
         "showlegend": false,
         "type": "scatter",
         "x": [
          "2023-06-27T08:00:00",
          "2023-06-27T13:30:00"
         ],
         "y": [
          83,
          83
         ]
        },
        {
         "line": {
          "color": "orange",
          "width": 10
         },
         "mode": "lines",
         "showlegend": false,
         "type": "scatter",
         "x": [
          "2023-06-27T13:30:00",
          "2023-06-27T22:00:00"
         ],
         "y": [
          83,
          83
         ]
        },
        {
         "line": {
          "color": "orange",
          "width": 10
         },
         "mode": "lines",
         "showlegend": false,
         "type": "scatter",
         "x": [
          "2023-06-27T09:30:00",
          "2023-06-27T22:00:00"
         ],
         "y": [
          84,
          84
         ]
        },
        {
         "line": {
          "color": "orange",
          "width": 10
         },
         "mode": "lines",
         "showlegend": false,
         "type": "scatter",
         "x": [
          "2023-06-27T08:40:00",
          "2023-06-27T21:10:00"
         ],
         "y": [
          85,
          85
         ]
        },
        {
         "line": {
          "color": "orange",
          "width": 10
         },
         "mode": "lines",
         "showlegend": false,
         "type": "scatter",
         "x": [
          "2023-06-27T10:30:00",
          "2023-06-27T22:00:00"
         ],
         "y": [
          86,
          86
         ]
        },
        {
         "line": {
          "color": "orange",
          "width": 10
         },
         "mode": "lines",
         "showlegend": false,
         "type": "scatter",
         "x": [
          "2023-06-27T08:30:00",
          "2023-06-27T22:00:00"
         ],
         "y": [
          87,
          87
         ]
        },
        {
         "line": {
          "color": "orange",
          "width": 10
         },
         "mode": "lines",
         "showlegend": false,
         "type": "scatter",
         "x": [
          "2023-06-27T10:40:00",
          "2023-06-27T21:10:00"
         ],
         "y": [
          88,
          88
         ]
        },
        {
         "line": {
          "color": "orange",
          "width": 10
         },
         "mode": "lines",
         "showlegend": false,
         "type": "scatter",
         "x": [
          "2023-06-27T13:00:00",
          "2023-06-27T22:00:00"
         ],
         "y": [
          89,
          89
         ]
        },
        {
         "line": {
          "color": "orange",
          "width": 10
         },
         "mode": "lines",
         "showlegend": false,
         "type": "scatter",
         "x": [
          "2023-06-27T08:30:00",
          "2023-06-27T12:10:00"
         ],
         "y": [
          89,
          89
         ]
        },
        {
         "line": {
          "color": "orange",
          "width": 10
         },
         "mode": "lines",
         "showlegend": false,
         "type": "scatter",
         "x": [
          "2023-06-27T10:00:00",
          "2023-06-27T22:00:00"
         ],
         "y": [
          90,
          90
         ]
        },
        {
         "line": {
          "color": "orange",
          "width": 10
         },
         "mode": "lines",
         "showlegend": false,
         "type": "scatter",
         "x": [
          "2023-06-27T08:30:00",
          "2023-06-27T22:00:00"
         ],
         "y": [
          91,
          91
         ]
        },
        {
         "line": {
          "color": "orange",
          "width": 10
         },
         "mode": "lines",
         "showlegend": false,
         "type": "scatter",
         "x": [
          "2023-06-27T08:30:00",
          "2023-06-27T22:00:00"
         ],
         "y": [
          92,
          92
         ]
        },
        {
         "line": {
          "color": "orange",
          "width": 10
         },
         "mode": "lines",
         "showlegend": false,
         "type": "scatter",
         "x": [
          "2023-06-27T07:30:00",
          "2023-06-27T22:00:00"
         ],
         "y": [
          93,
          93
         ]
        },
        {
         "line": {
          "color": "orange",
          "width": 10
         },
         "mode": "lines",
         "showlegend": false,
         "type": "scatter",
         "x": [
          "2023-06-27T11:30:00",
          "2023-06-27T22:00:00"
         ],
         "y": [
          94,
          94
         ]
        },
        {
         "line": {
          "color": "orange",
          "width": 10
         },
         "mode": "lines",
         "showlegend": false,
         "type": "scatter",
         "x": [
          "2023-06-27T10:30:00",
          "2023-06-27T22:00:00"
         ],
         "y": [
          95,
          95
         ]
        },
        {
         "line": {
          "color": "orange",
          "width": 10
         },
         "mode": "lines",
         "showlegend": false,
         "type": "scatter",
         "x": [
          "2023-06-27T08:30:00",
          "2023-06-27T22:00:00"
         ],
         "y": [
          96,
          96
         ]
        },
        {
         "line": {
          "color": "orange",
          "width": 10
         },
         "mode": "lines",
         "showlegend": false,
         "type": "scatter",
         "x": [
          "2023-06-27T09:30:00",
          "2023-06-27T22:00:00"
         ],
         "y": [
          97,
          97
         ]
        },
        {
         "line": {
          "color": "orange",
          "width": 10
         },
         "mode": "lines",
         "showlegend": false,
         "type": "scatter",
         "x": [
          "2023-06-27T08:30:00",
          "2023-06-27T22:00:00"
         ],
         "y": [
          98,
          98
         ]
        },
        {
         "line": {
          "color": "orange",
          "width": 10
         },
         "mode": "lines",
         "showlegend": false,
         "type": "scatter",
         "x": [
          "2023-06-27T12:30:00",
          "2023-06-27T16:50:00"
         ],
         "y": [
          99,
          99
         ]
        },
        {
         "line": {
          "color": "orange",
          "width": 10
         },
         "mode": "lines",
         "showlegend": false,
         "type": "scatter",
         "x": [
          "2023-06-27T09:30:00",
          "2023-06-27T12:00:00"
         ],
         "y": [
          99,
          99
         ]
        },
        {
         "line": {
          "color": "orange",
          "width": 10
         },
         "mode": "lines",
         "showlegend": false,
         "type": "scatter",
         "x": [
          "2023-06-27T16:50:00",
          "2023-06-27T22:00:00"
         ],
         "y": [
          99,
          99
         ]
        },
        {
         "line": {
          "color": "orange",
          "width": 10
         },
         "mode": "lines",
         "showlegend": false,
         "type": "scatter",
         "x": [
          "2023-06-27T08:40:00",
          "2023-06-27T22:00:00"
         ],
         "y": [
          100,
          100
         ]
        },
        {
         "line": {
          "color": "orange",
          "width": 10
         },
         "mode": "lines",
         "showlegend": false,
         "type": "scatter",
         "x": [
          "2023-06-27T08:40:00",
          "2023-06-27T21:10:00"
         ],
         "y": [
          101,
          101
         ]
        },
        {
         "line": {
          "color": "orange",
          "width": 10
         },
         "mode": "lines",
         "showlegend": false,
         "type": "scatter",
         "x": [
          "2023-06-27T09:30:00",
          "2023-06-27T22:00:00"
         ],
         "y": [
          102,
          102
         ]
        },
        {
         "line": {
          "color": "orange",
          "width": 10
         },
         "mode": "lines",
         "showlegend": false,
         "type": "scatter",
         "x": [
          "2023-06-27T08:30:00",
          "2023-06-27T12:30:00"
         ],
         "y": [
          103,
          103
         ]
        },
        {
         "line": {
          "color": "orange",
          "width": 10
         },
         "mode": "lines",
         "showlegend": false,
         "type": "scatter",
         "x": [
          "2023-06-27T12:30:00",
          "2023-06-27T22:00:00"
         ],
         "y": [
          103,
          103
         ]
        },
        {
         "line": {
          "color": "orange",
          "width": 10
         },
         "mode": "lines",
         "showlegend": false,
         "type": "scatter",
         "x": [
          "2023-06-27T07:00:00",
          "2023-06-27T22:00:00"
         ],
         "y": [
          104,
          104
         ]
        },
        {
         "line": {
          "color": "orange",
          "width": 10
         },
         "mode": "lines",
         "showlegend": false,
         "type": "scatter",
         "x": [
          "2023-06-27T08:30:00",
          "2023-06-27T12:00:00"
         ],
         "y": [
          105,
          105
         ]
        },
        {
         "line": {
          "color": "orange",
          "width": 10
         },
         "mode": "lines",
         "showlegend": false,
         "type": "scatter",
         "x": [
          "2023-06-27T12:00:00",
          "2023-06-27T22:00:00"
         ],
         "y": [
          105,
          105
         ]
        },
        {
         "line": {
          "color": "orange",
          "width": 10
         },
         "mode": "lines",
         "showlegend": false,
         "type": "scatter",
         "x": [
          "2023-06-27T08:30:00",
          "2023-06-27T21:10:00"
         ],
         "y": [
          106,
          106
         ]
        },
        {
         "line": {
          "color": "orange",
          "width": 10
         },
         "mode": "lines",
         "showlegend": false,
         "type": "scatter",
         "x": [
          "2023-06-27T12:30:00",
          "2023-06-27T22:00:00"
         ],
         "y": [
          107,
          107
         ]
        },
        {
         "line": {
          "color": "orange",
          "width": 10
         },
         "mode": "lines",
         "showlegend": false,
         "type": "scatter",
         "x": [
          "2023-06-27T08:30:00",
          "2023-06-27T12:00:00"
         ],
         "y": [
          107,
          107
         ]
        },
        {
         "line": {
          "color": "orange",
          "width": 10
         },
         "mode": "lines",
         "showlegend": false,
         "type": "scatter",
         "x": [
          "2023-06-27T07:30:00",
          "2023-06-27T21:10:00"
         ],
         "y": [
          108,
          108
         ]
        },
        {
         "line": {
          "color": "orange",
          "width": 10
         },
         "mode": "lines",
         "showlegend": false,
         "type": "scatter",
         "x": [
          "2023-06-27T08:30:00",
          "2023-06-27T21:10:00"
         ],
         "y": [
          109,
          109
         ]
        },
        {
         "line": {
          "color": "orange",
          "width": 10
         },
         "mode": "lines",
         "showlegend": false,
         "type": "scatter",
         "x": [
          "2023-06-27T14:00:00",
          "2023-06-27T22:00:00"
         ],
         "y": [
          110,
          110
         ]
        },
        {
         "line": {
          "color": "orange",
          "width": 10
         },
         "mode": "lines",
         "showlegend": false,
         "type": "scatter",
         "x": [
          "2023-06-27T09:00:00",
          "2023-06-27T14:00:00"
         ],
         "y": [
          110,
          110
         ]
        },
        {
         "line": {
          "color": "orange",
          "width": 10
         },
         "mode": "lines",
         "showlegend": false,
         "type": "scatter",
         "x": [
          "2023-06-27T08:30:00",
          "2023-06-27T22:00:00"
         ],
         "y": [
          111,
          111
         ]
        },
        {
         "line": {
          "color": "orange",
          "width": 10
         },
         "mode": "lines",
         "showlegend": false,
         "type": "scatter",
         "x": [
          "2023-06-27T08:30:00",
          "2023-06-27T22:00:00"
         ],
         "y": [
          112,
          112
         ]
        },
        {
         "line": {
          "color": "orange",
          "width": 10
         },
         "mode": "lines",
         "showlegend": false,
         "type": "scatter",
         "x": [
          "2023-06-27T08:50:00",
          "2023-06-27T22:00:00"
         ],
         "y": [
          113,
          113
         ]
        },
        {
         "line": {
          "color": "orange",
          "width": 10
         },
         "mode": "lines",
         "showlegend": false,
         "type": "scatter",
         "x": [
          "2023-06-27T13:30:00",
          "2023-06-27T22:00:00"
         ],
         "y": [
          114,
          114
         ]
        },
        {
         "line": {
          "color": "orange",
          "width": 10
         },
         "mode": "lines",
         "showlegend": false,
         "type": "scatter",
         "x": [
          "2023-06-27T08:30:00",
          "2023-06-27T12:20:00"
         ],
         "y": [
          114,
          114
         ]
        },
        {
         "line": {
          "color": "orange",
          "width": 10
         },
         "mode": "lines",
         "showlegend": false,
         "type": "scatter",
         "x": [
          "2023-06-27T09:30:00",
          "2023-06-27T22:00:00"
         ],
         "y": [
          115,
          115
         ]
        },
        {
         "line": {
          "color": "orange",
          "width": 10
         },
         "mode": "lines",
         "showlegend": false,
         "type": "scatter",
         "x": [
          "2023-06-27T08:30:00",
          "2023-06-27T22:00:00"
         ],
         "y": [
          116,
          116
         ]
        },
        {
         "line": {
          "color": "orange",
          "width": 10
         },
         "mode": "lines",
         "showlegend": false,
         "type": "scatter",
         "x": [
          "2023-06-27T08:00:00",
          "2023-06-27T22:00:00"
         ],
         "y": [
          117,
          117
         ]
        },
        {
         "line": {
          "color": "orange",
          "width": 10
         },
         "mode": "lines",
         "showlegend": false,
         "type": "scatter",
         "x": [
          "2023-06-27T10:00:00",
          "2023-06-27T22:00:00"
         ],
         "y": [
          118,
          118
         ]
        },
        {
         "line": {
          "color": "orange",
          "width": 10
         },
         "mode": "lines",
         "showlegend": false,
         "type": "scatter",
         "x": [
          "2023-06-27T10:00:00",
          "2023-06-27T22:00:00"
         ],
         "y": [
          119,
          119
         ]
        },
        {
         "line": {
          "color": "orange",
          "width": 10
         },
         "mode": "lines",
         "showlegend": false,
         "type": "scatter",
         "x": [
          "2023-06-27T09:30:00",
          "2023-06-27T22:00:00"
         ],
         "y": [
          120,
          120
         ]
        },
        {
         "line": {
          "color": "orange",
          "width": 10
         },
         "mode": "lines",
         "showlegend": false,
         "type": "scatter",
         "x": [
          "2023-06-27T08:20:00",
          "2023-06-27T22:00:00"
         ],
         "y": [
          121,
          121
         ]
        },
        {
         "line": {
          "color": "orange",
          "width": 10
         },
         "mode": "lines",
         "showlegend": false,
         "type": "scatter",
         "x": [
          "2023-06-27T10:00:00",
          "2023-06-27T22:00:00"
         ],
         "y": [
          122,
          122
         ]
        },
        {
         "line": {
          "color": "orange",
          "width": 10
         },
         "mode": "lines",
         "showlegend": false,
         "type": "scatter",
         "x": [
          "2023-06-27T08:30:00",
          "2023-06-27T22:00:00"
         ],
         "y": [
          123,
          123
         ]
        },
        {
         "line": {
          "color": "orange",
          "width": 10
         },
         "mode": "lines",
         "showlegend": false,
         "type": "scatter",
         "x": [
          "2023-06-27T07:30:00",
          "2023-06-27T13:00:00"
         ],
         "y": [
          124,
          124
         ]
        },
        {
         "line": {
          "color": "orange",
          "width": 10
         },
         "mode": "lines",
         "showlegend": false,
         "type": "scatter",
         "x": [
          "2023-06-27T13:00:00",
          "2023-06-27T22:00:00"
         ],
         "y": [
          124,
          124
         ]
        },
        {
         "line": {
          "color": "orange",
          "width": 10
         },
         "mode": "lines",
         "showlegend": false,
         "type": "scatter",
         "x": [
          "2023-06-27T08:30:00",
          "2023-06-27T22:00:00"
         ],
         "y": [
          125,
          125
         ]
        },
        {
         "line": {
          "color": "orange",
          "width": 10
         },
         "mode": "lines",
         "showlegend": false,
         "type": "scatter",
         "x": [
          "2023-06-27T08:40:00",
          "2023-06-27T22:00:00"
         ],
         "y": [
          126,
          126
         ]
        },
        {
         "line": {
          "color": "orange",
          "width": 10
         },
         "mode": "lines",
         "showlegend": false,
         "type": "scatter",
         "x": [
          "2023-06-27T09:30:00",
          "2023-06-27T21:10:00"
         ],
         "y": [
          127,
          127
         ]
        },
        {
         "line": {
          "color": "orange",
          "width": 10
         },
         "mode": "lines",
         "showlegend": false,
         "type": "scatter",
         "x": [
          "2023-06-27T09:30:00",
          "2023-06-27T21:30:00"
         ],
         "y": [
          128,
          128
         ]
        },
        {
         "line": {
          "color": "orange",
          "width": 10
         },
         "mode": "lines",
         "showlegend": false,
         "type": "scatter",
         "x": [
          "2023-06-27T08:00:00",
          "2023-06-27T22:00:00"
         ],
         "y": [
          129,
          129
         ]
        },
        {
         "line": {
          "color": "orange",
          "width": 10
         },
         "mode": "lines",
         "showlegend": false,
         "type": "scatter",
         "x": [
          "2023-06-27T08:30:00",
          "2023-06-27T21:10:00"
         ],
         "y": [
          130,
          130
         ]
        },
        {
         "line": {
          "color": "orange",
          "width": 10
         },
         "mode": "lines",
         "showlegend": false,
         "type": "scatter",
         "x": [
          "2023-06-27T08:10:00",
          "2023-06-27T12:30:00"
         ],
         "y": [
          131,
          131
         ]
        },
        {
         "line": {
          "color": "orange",
          "width": 10
         },
         "mode": "lines",
         "showlegend": false,
         "type": "scatter",
         "x": [
          "2023-06-27T12:30:00",
          "2023-06-27T21:10:00"
         ],
         "y": [
          131,
          131
         ]
        },
        {
         "line": {
          "color": "orange",
          "width": 10
         },
         "mode": "lines",
         "showlegend": false,
         "type": "scatter",
         "x": [
          "2023-06-27T06:30:00",
          "2023-06-27T21:10:00"
         ],
         "y": [
          132,
          132
         ]
        },
        {
         "line": {
          "color": "orange",
          "width": 10
         },
         "mode": "lines",
         "showlegend": false,
         "type": "scatter",
         "x": [
          "2023-06-27T08:30:00",
          "2023-06-27T22:00:00"
         ],
         "y": [
          133,
          133
         ]
        },
        {
         "line": {
          "color": "orange",
          "width": 10
         },
         "mode": "lines",
         "showlegend": false,
         "type": "scatter",
         "x": [
          "2023-06-27T08:50:00",
          "2023-06-27T22:00:00"
         ],
         "y": [
          134,
          134
         ]
        },
        {
         "line": {
          "color": "orange",
          "width": 10
         },
         "mode": "lines",
         "showlegend": false,
         "type": "scatter",
         "x": [
          "2023-06-27T08:40:00",
          "2023-06-27T22:00:00"
         ],
         "y": [
          135,
          135
         ]
        },
        {
         "line": {
          "color": "orange",
          "width": 10
         },
         "mode": "lines",
         "showlegend": false,
         "type": "scatter",
         "x": [
          "2023-06-27T06:30:00",
          "2023-06-27T22:00:00"
         ],
         "y": [
          136,
          136
         ]
        },
        {
         "line": {
          "color": "orange",
          "width": 10
         },
         "mode": "lines",
         "showlegend": false,
         "type": "scatter",
         "x": [
          "2023-06-27T08:30:00",
          "2023-06-27T21:10:00"
         ],
         "y": [
          137,
          137
         ]
        },
        {
         "line": {
          "color": "orange",
          "width": 10
         },
         "mode": "lines",
         "showlegend": false,
         "type": "scatter",
         "x": [
          "2023-06-27T10:10:00",
          "2023-06-27T22:00:00"
         ],
         "y": [
          138,
          138
         ]
        },
        {
         "line": {
          "color": "orange",
          "width": 10
         },
         "mode": "lines",
         "showlegend": false,
         "type": "scatter",
         "x": [
          "2023-06-27T17:30:00",
          "2023-06-27T22:00:00"
         ],
         "y": [
          139,
          139
         ]
        },
        {
         "line": {
          "color": "orange",
          "width": 10
         },
         "mode": "lines",
         "showlegend": false,
         "type": "scatter",
         "x": [
          "2023-06-27T10:30:00",
          "2023-06-27T22:00:00"
         ],
         "y": [
          140,
          140
         ]
        },
        {
         "line": {
          "color": "orange",
          "width": 10
         },
         "mode": "lines",
         "showlegend": false,
         "type": "scatter",
         "x": [
          "2023-06-27T08:30:00",
          "2023-06-27T21:10:00"
         ],
         "y": [
          141,
          141
         ]
        },
        {
         "line": {
          "color": "orange",
          "width": 10
         },
         "mode": "lines",
         "showlegend": false,
         "type": "scatter",
         "x": [
          "2023-06-27T10:10:00",
          "2023-06-27T22:00:00"
         ],
         "y": [
          142,
          142
         ]
        },
        {
         "line": {
          "color": "orange",
          "width": 10
         },
         "mode": "lines",
         "showlegend": false,
         "type": "scatter",
         "x": [
          "2023-06-27T14:50:00",
          "2023-06-27T22:00:00"
         ],
         "y": [
          143,
          143
         ]
        },
        {
         "line": {
          "color": "orange",
          "width": 10
         },
         "mode": "lines",
         "showlegend": false,
         "type": "scatter",
         "x": [
          "2023-06-27T14:30:00",
          "2023-06-27T22:00:00"
         ],
         "y": [
          144,
          144
         ]
        },
        {
         "line": {
          "color": "orange",
          "width": 10
         },
         "mode": "lines",
         "showlegend": false,
         "type": "scatter",
         "x": [
          "2023-06-27T08:40:00",
          "2023-06-27T13:00:00"
         ],
         "y": [
          144,
          144
         ]
        },
        {
         "line": {
          "color": "orange",
          "width": 10
         },
         "mode": "lines",
         "showlegend": false,
         "type": "scatter",
         "x": [
          "2023-06-27T09:00:00",
          "2023-06-27T22:00:00"
         ],
         "y": [
          145,
          145
         ]
        },
        {
         "line": {
          "color": "orange",
          "width": 10
         },
         "mode": "lines",
         "showlegend": false,
         "type": "scatter",
         "x": [
          "2023-06-27T09:00:00",
          "2023-06-27T21:10:00"
         ],
         "y": [
          146,
          146
         ]
        },
        {
         "line": {
          "color": "orange",
          "width": 10
         },
         "mode": "lines",
         "showlegend": false,
         "type": "scatter",
         "x": [
          "2023-06-27T07:30:00",
          "2023-06-27T22:00:00"
         ],
         "y": [
          147,
          147
         ]
        }
       ],
       "layout": {
        "autosize": false,
        "height": 2000,
        "margin": {
         "l": 100,
         "pad": 4,
         "r": 50
        },
        "template": {
         "data": {
          "bar": [
           {
            "error_x": {
             "color": "#2a3f5f"
            },
            "error_y": {
             "color": "#2a3f5f"
            },
            "marker": {
             "line": {
              "color": "#E5ECF6",
              "width": 0.5
             },
             "pattern": {
              "fillmode": "overlay",
              "size": 10,
              "solidity": 0.2
             }
            },
            "type": "bar"
           }
          ],
          "barpolar": [
           {
            "marker": {
             "line": {
              "color": "#E5ECF6",
              "width": 0.5
             },
             "pattern": {
              "fillmode": "overlay",
              "size": 10,
              "solidity": 0.2
             }
            },
            "type": "barpolar"
           }
          ],
          "carpet": [
           {
            "aaxis": {
             "endlinecolor": "#2a3f5f",
             "gridcolor": "white",
             "linecolor": "white",
             "minorgridcolor": "white",
             "startlinecolor": "#2a3f5f"
            },
            "baxis": {
             "endlinecolor": "#2a3f5f",
             "gridcolor": "white",
             "linecolor": "white",
             "minorgridcolor": "white",
             "startlinecolor": "#2a3f5f"
            },
            "type": "carpet"
           }
          ],
          "choropleth": [
           {
            "colorbar": {
             "outlinewidth": 0,
             "ticks": ""
            },
            "type": "choropleth"
           }
          ],
          "contour": [
           {
            "colorbar": {
             "outlinewidth": 0,
             "ticks": ""
            },
            "colorscale": [
             [
              0,
              "#0d0887"
             ],
             [
              0.1111111111111111,
              "#46039f"
             ],
             [
              0.2222222222222222,
              "#7201a8"
             ],
             [
              0.3333333333333333,
              "#9c179e"
             ],
             [
              0.4444444444444444,
              "#bd3786"
             ],
             [
              0.5555555555555556,
              "#d8576b"
             ],
             [
              0.6666666666666666,
              "#ed7953"
             ],
             [
              0.7777777777777778,
              "#fb9f3a"
             ],
             [
              0.8888888888888888,
              "#fdca26"
             ],
             [
              1,
              "#f0f921"
             ]
            ],
            "type": "contour"
           }
          ],
          "contourcarpet": [
           {
            "colorbar": {
             "outlinewidth": 0,
             "ticks": ""
            },
            "type": "contourcarpet"
           }
          ],
          "heatmap": [
           {
            "colorbar": {
             "outlinewidth": 0,
             "ticks": ""
            },
            "colorscale": [
             [
              0,
              "#0d0887"
             ],
             [
              0.1111111111111111,
              "#46039f"
             ],
             [
              0.2222222222222222,
              "#7201a8"
             ],
             [
              0.3333333333333333,
              "#9c179e"
             ],
             [
              0.4444444444444444,
              "#bd3786"
             ],
             [
              0.5555555555555556,
              "#d8576b"
             ],
             [
              0.6666666666666666,
              "#ed7953"
             ],
             [
              0.7777777777777778,
              "#fb9f3a"
             ],
             [
              0.8888888888888888,
              "#fdca26"
             ],
             [
              1,
              "#f0f921"
             ]
            ],
            "type": "heatmap"
           }
          ],
          "heatmapgl": [
           {
            "colorbar": {
             "outlinewidth": 0,
             "ticks": ""
            },
            "colorscale": [
             [
              0,
              "#0d0887"
             ],
             [
              0.1111111111111111,
              "#46039f"
             ],
             [
              0.2222222222222222,
              "#7201a8"
             ],
             [
              0.3333333333333333,
              "#9c179e"
             ],
             [
              0.4444444444444444,
              "#bd3786"
             ],
             [
              0.5555555555555556,
              "#d8576b"
             ],
             [
              0.6666666666666666,
              "#ed7953"
             ],
             [
              0.7777777777777778,
              "#fb9f3a"
             ],
             [
              0.8888888888888888,
              "#fdca26"
             ],
             [
              1,
              "#f0f921"
             ]
            ],
            "type": "heatmapgl"
           }
          ],
          "histogram": [
           {
            "marker": {
             "pattern": {
              "fillmode": "overlay",
              "size": 10,
              "solidity": 0.2
             }
            },
            "type": "histogram"
           }
          ],
          "histogram2d": [
           {
            "colorbar": {
             "outlinewidth": 0,
             "ticks": ""
            },
            "colorscale": [
             [
              0,
              "#0d0887"
             ],
             [
              0.1111111111111111,
              "#46039f"
             ],
             [
              0.2222222222222222,
              "#7201a8"
             ],
             [
              0.3333333333333333,
              "#9c179e"
             ],
             [
              0.4444444444444444,
              "#bd3786"
             ],
             [
              0.5555555555555556,
              "#d8576b"
             ],
             [
              0.6666666666666666,
              "#ed7953"
             ],
             [
              0.7777777777777778,
              "#fb9f3a"
             ],
             [
              0.8888888888888888,
              "#fdca26"
             ],
             [
              1,
              "#f0f921"
             ]
            ],
            "type": "histogram2d"
           }
          ],
          "histogram2dcontour": [
           {
            "colorbar": {
             "outlinewidth": 0,
             "ticks": ""
            },
            "colorscale": [
             [
              0,
              "#0d0887"
             ],
             [
              0.1111111111111111,
              "#46039f"
             ],
             [
              0.2222222222222222,
              "#7201a8"
             ],
             [
              0.3333333333333333,
              "#9c179e"
             ],
             [
              0.4444444444444444,
              "#bd3786"
             ],
             [
              0.5555555555555556,
              "#d8576b"
             ],
             [
              0.6666666666666666,
              "#ed7953"
             ],
             [
              0.7777777777777778,
              "#fb9f3a"
             ],
             [
              0.8888888888888888,
              "#fdca26"
             ],
             [
              1,
              "#f0f921"
             ]
            ],
            "type": "histogram2dcontour"
           }
          ],
          "mesh3d": [
           {
            "colorbar": {
             "outlinewidth": 0,
             "ticks": ""
            },
            "type": "mesh3d"
           }
          ],
          "parcoords": [
           {
            "line": {
             "colorbar": {
              "outlinewidth": 0,
              "ticks": ""
             }
            },
            "type": "parcoords"
           }
          ],
          "pie": [
           {
            "automargin": true,
            "type": "pie"
           }
          ],
          "scatter": [
           {
            "fillpattern": {
             "fillmode": "overlay",
             "size": 10,
             "solidity": 0.2
            },
            "type": "scatter"
           }
          ],
          "scatter3d": [
           {
            "line": {
             "colorbar": {
              "outlinewidth": 0,
              "ticks": ""
             }
            },
            "marker": {
             "colorbar": {
              "outlinewidth": 0,
              "ticks": ""
             }
            },
            "type": "scatter3d"
           }
          ],
          "scattercarpet": [
           {
            "marker": {
             "colorbar": {
              "outlinewidth": 0,
              "ticks": ""
             }
            },
            "type": "scattercarpet"
           }
          ],
          "scattergeo": [
           {
            "marker": {
             "colorbar": {
              "outlinewidth": 0,
              "ticks": ""
             }
            },
            "type": "scattergeo"
           }
          ],
          "scattergl": [
           {
            "marker": {
             "colorbar": {
              "outlinewidth": 0,
              "ticks": ""
             }
            },
            "type": "scattergl"
           }
          ],
          "scattermapbox": [
           {
            "marker": {
             "colorbar": {
              "outlinewidth": 0,
              "ticks": ""
             }
            },
            "type": "scattermapbox"
           }
          ],
          "scatterpolar": [
           {
            "marker": {
             "colorbar": {
              "outlinewidth": 0,
              "ticks": ""
             }
            },
            "type": "scatterpolar"
           }
          ],
          "scatterpolargl": [
           {
            "marker": {
             "colorbar": {
              "outlinewidth": 0,
              "ticks": ""
             }
            },
            "type": "scatterpolargl"
           }
          ],
          "scatterternary": [
           {
            "marker": {
             "colorbar": {
              "outlinewidth": 0,
              "ticks": ""
             }
            },
            "type": "scatterternary"
           }
          ],
          "surface": [
           {
            "colorbar": {
             "outlinewidth": 0,
             "ticks": ""
            },
            "colorscale": [
             [
              0,
              "#0d0887"
             ],
             [
              0.1111111111111111,
              "#46039f"
             ],
             [
              0.2222222222222222,
              "#7201a8"
             ],
             [
              0.3333333333333333,
              "#9c179e"
             ],
             [
              0.4444444444444444,
              "#bd3786"
             ],
             [
              0.5555555555555556,
              "#d8576b"
             ],
             [
              0.6666666666666666,
              "#ed7953"
             ],
             [
              0.7777777777777778,
              "#fb9f3a"
             ],
             [
              0.8888888888888888,
              "#fdca26"
             ],
             [
              1,
              "#f0f921"
             ]
            ],
            "type": "surface"
           }
          ],
          "table": [
           {
            "cells": {
             "fill": {
              "color": "#EBF0F8"
             },
             "line": {
              "color": "white"
             }
            },
            "header": {
             "fill": {
              "color": "#C8D4E3"
             },
             "line": {
              "color": "white"
             }
            },
            "type": "table"
           }
          ]
         },
         "layout": {
          "annotationdefaults": {
           "arrowcolor": "#2a3f5f",
           "arrowhead": 0,
           "arrowwidth": 1
          },
          "autotypenumbers": "strict",
          "coloraxis": {
           "colorbar": {
            "outlinewidth": 0,
            "ticks": ""
           }
          },
          "colorscale": {
           "diverging": [
            [
             0,
             "#8e0152"
            ],
            [
             0.1,
             "#c51b7d"
            ],
            [
             0.2,
             "#de77ae"
            ],
            [
             0.3,
             "#f1b6da"
            ],
            [
             0.4,
             "#fde0ef"
            ],
            [
             0.5,
             "#f7f7f7"
            ],
            [
             0.6,
             "#e6f5d0"
            ],
            [
             0.7,
             "#b8e186"
            ],
            [
             0.8,
             "#7fbc41"
            ],
            [
             0.9,
             "#4d9221"
            ],
            [
             1,
             "#276419"
            ]
           ],
           "sequential": [
            [
             0,
             "#0d0887"
            ],
            [
             0.1111111111111111,
             "#46039f"
            ],
            [
             0.2222222222222222,
             "#7201a8"
            ],
            [
             0.3333333333333333,
             "#9c179e"
            ],
            [
             0.4444444444444444,
             "#bd3786"
            ],
            [
             0.5555555555555556,
             "#d8576b"
            ],
            [
             0.6666666666666666,
             "#ed7953"
            ],
            [
             0.7777777777777778,
             "#fb9f3a"
            ],
            [
             0.8888888888888888,
             "#fdca26"
            ],
            [
             1,
             "#f0f921"
            ]
           ],
           "sequentialminus": [
            [
             0,
             "#0d0887"
            ],
            [
             0.1111111111111111,
             "#46039f"
            ],
            [
             0.2222222222222222,
             "#7201a8"
            ],
            [
             0.3333333333333333,
             "#9c179e"
            ],
            [
             0.4444444444444444,
             "#bd3786"
            ],
            [
             0.5555555555555556,
             "#d8576b"
            ],
            [
             0.6666666666666666,
             "#ed7953"
            ],
            [
             0.7777777777777778,
             "#fb9f3a"
            ],
            [
             0.8888888888888888,
             "#fdca26"
            ],
            [
             1,
             "#f0f921"
            ]
           ]
          },
          "colorway": [
           "#636efa",
           "#EF553B",
           "#00cc96",
           "#ab63fa",
           "#FFA15A",
           "#19d3f3",
           "#FF6692",
           "#B6E880",
           "#FF97FF",
           "#FECB52"
          ],
          "font": {
           "color": "#2a3f5f"
          },
          "geo": {
           "bgcolor": "white",
           "lakecolor": "white",
           "landcolor": "#E5ECF6",
           "showlakes": true,
           "showland": true,
           "subunitcolor": "white"
          },
          "hoverlabel": {
           "align": "left"
          },
          "hovermode": "closest",
          "mapbox": {
           "style": "light"
          },
          "paper_bgcolor": "white",
          "plot_bgcolor": "#E5ECF6",
          "polar": {
           "angularaxis": {
            "gridcolor": "white",
            "linecolor": "white",
            "ticks": ""
           },
           "bgcolor": "#E5ECF6",
           "radialaxis": {
            "gridcolor": "white",
            "linecolor": "white",
            "ticks": ""
           }
          },
          "scene": {
           "xaxis": {
            "backgroundcolor": "#E5ECF6",
            "gridcolor": "white",
            "gridwidth": 2,
            "linecolor": "white",
            "showbackground": true,
            "ticks": "",
            "zerolinecolor": "white"
           },
           "yaxis": {
            "backgroundcolor": "#E5ECF6",
            "gridcolor": "white",
            "gridwidth": 2,
            "linecolor": "white",
            "showbackground": true,
            "ticks": "",
            "zerolinecolor": "white"
           },
           "zaxis": {
            "backgroundcolor": "#E5ECF6",
            "gridcolor": "white",
            "gridwidth": 2,
            "linecolor": "white",
            "showbackground": true,
            "ticks": "",
            "zerolinecolor": "white"
           }
          },
          "shapedefaults": {
           "line": {
            "color": "#2a3f5f"
           }
          },
          "ternary": {
           "aaxis": {
            "gridcolor": "white",
            "linecolor": "white",
            "ticks": ""
           },
           "baxis": {
            "gridcolor": "white",
            "linecolor": "white",
            "ticks": ""
           },
           "bgcolor": "#E5ECF6",
           "caxis": {
            "gridcolor": "white",
            "linecolor": "white",
            "ticks": ""
           }
          },
          "title": {
           "x": 0.05
          },
          "xaxis": {
           "automargin": true,
           "gridcolor": "white",
           "linecolor": "white",
           "ticks": "",
           "title": {
            "standoff": 15
           },
           "zerolinecolor": "white",
           "zerolinewidth": 2
          },
          "yaxis": {
           "automargin": true,
           "gridcolor": "white",
           "linecolor": "white",
           "ticks": "",
           "title": {
            "standoff": 15
           },
           "zerolinecolor": "white",
           "zerolinewidth": 2
          }
         }
        },
        "title": {
         "text": "设备预约时间段分布"
        },
        "width": 800,
        "xaxis": {
         "tickformat": "%H:%M",
         "title": {
          "text": "时间"
         }
        },
        "yaxis": {
         "scaleanchor": "x",
         "scaleratio": 1,
         "ticktext": [
          "5B001",
          "5B002",
          "5B003",
          "5B004",
          "5B005",
          "5B006",
          "5B007",
          "5B008",
          "5B009",
          "5B010",
          "5B011",
          "5B012",
          "5B013",
          "5B014",
          "5B015",
          "5B016",
          "5B017",
          "5B018",
          "5B019",
          "5B020",
          "5B021",
          "5B022",
          "5B023",
          "5B024",
          "5B025",
          "5B026",
          "5B027",
          "5B028",
          "5B029",
          "5B030",
          "5B031",
          "5B032",
          "5B033",
          "5B034",
          "5B035",
          "5B036",
          "5B037",
          "5B038",
          "5B039",
          "5B040",
          "5B041",
          "5B042",
          "5B043",
          "5B044",
          "5B045",
          "5B046",
          "5B047",
          "5B048",
          "5B049",
          "5B050",
          "5B051",
          "5B052",
          "5B053",
          "5B054",
          "5B055",
          "5B056",
          "5B057",
          "5B058",
          "5B059",
          "5B060",
          "5B061",
          "5B062",
          "5B063",
          "5B064",
          "5B065",
          "5B066",
          "5B088",
          "5B089",
          "5B090",
          "5B091",
          "5B092",
          "5B093",
          "5B094",
          "5B095",
          "5B096",
          "5B097",
          "5B098",
          "5B099",
          "5B100",
          "5B101",
          "5B102",
          "5B103",
          "5B104",
          "5B105",
          "5B106",
          "5B107",
          "5B108",
          "5B109",
          "5B110",
          "5B111",
          "5B112",
          "5B113",
          "5B114",
          "5B115",
          "5B116",
          "5B117",
          "5B118",
          "5B119",
          "5B120",
          "5B121",
          "5B122",
          "5B123",
          "5B124",
          "5B125",
          "5B126",
          "5B127",
          "5B128",
          "5B129",
          "5B130",
          "5B131",
          "5B132",
          "5B133",
          "5B134",
          "5B135",
          "5B136",
          "5B137",
          "5B138",
          "5B139",
          "5B140",
          "5B141",
          "5B157",
          "5B158",
          "5B159",
          "5B160",
          "5B161",
          "5B162",
          "5B163",
          "5B164",
          "5B165",
          "5B166",
          "5B167",
          "5B168",
          "5B169",
          "5B170",
          "5B171",
          "5B172",
          "5B173",
          "5B174",
          "5B175",
          "5B176",
          "5B177",
          "5B178",
          "5B179",
          "5B180",
          "5B181",
          "5B182",
          "5B183",
          "5B184"
         ],
         "tickvals": [
          0,
          1,
          2,
          3,
          4,
          5,
          6,
          7,
          8,
          9,
          10,
          11,
          12,
          13,
          14,
          15,
          16,
          17,
          18,
          19,
          20,
          21,
          22,
          23,
          24,
          25,
          26,
          27,
          28,
          29,
          30,
          31,
          32,
          33,
          34,
          35,
          36,
          37,
          38,
          39,
          40,
          41,
          42,
          43,
          44,
          45,
          46,
          47,
          48,
          49,
          50,
          51,
          52,
          53,
          54,
          55,
          56,
          57,
          58,
          59,
          60,
          61,
          62,
          63,
          64,
          65,
          66,
          67,
          68,
          69,
          70,
          71,
          72,
          73,
          74,
          75,
          76,
          77,
          78,
          79,
          80,
          81,
          82,
          83,
          84,
          85,
          86,
          87,
          88,
          89,
          90,
          91,
          92,
          93,
          94,
          95,
          96,
          97,
          98,
          99,
          100,
          101,
          102,
          103,
          104,
          105,
          106,
          107,
          108,
          109,
          110,
          111,
          112,
          113,
          114,
          115,
          116,
          117,
          118,
          119,
          120,
          121,
          122,
          123,
          124,
          125,
          126,
          127,
          128,
          129,
          130,
          131,
          132,
          133,
          134,
          135,
          136,
          137,
          138,
          139,
          140,
          141,
          142,
          143,
          144,
          145,
          146,
          147
         ],
         "title": {
          "text": "座位"
         }
        }
       }
      }
     },
     "metadata": {},
     "output_type": "display_data"
    }
   ],
   "source": [
    "# 根据设备名称分组\n",
    "groups = df.groupby(\"devName\")\n",
    "\n",
    "dev_names = df['devName'].unique()\n",
    "name_to_index = {name: i for i, name in enumerate(dev_names)}\n",
    "\n",
    "# 创建散点图\n",
    "fig = go.Figure()\n",
    "\n",
    "for name, group in groups:\n",
    "    y_pos = name_to_index[name]\n",
    "    for start_time, end_time in zip(group['startTime'], group['endTime']):\n",
    "        fig.add_trace(\n",
    "            go.Scatter(\n",
    "                x=[start_time, end_time],\n",
    "                y=[y_pos, y_pos],\n",
    "                mode='lines',\n",
    "                line=dict(color='orange', width=10),\n",
    "                showlegend=False\n",
    "            )\n",
    "        )\n",
    "\n",
    "# 设置x轴和y轴\n",
    "fig.update_xaxes(title_text='时间', tickformat='%H:%M')\n",
    "fig.update_yaxes(title_text='座位', tickvals=list(range(len(dev_names))), ticktext=dev_names)\n",
    "\n",
    "# 设置布局\n",
    "fig.update_layout(\n",
    "    title='设备预约时间段分布',\n",
    "    autosize=False,\n",
    "    width=800,  # 调整图表宽度\n",
    "    height=2000,  # 调整图表高度\n",
    "    margin=dict(l=100, r=50, pad=4),\n",
    "    yaxis=dict(scaleanchor=\"x\", scaleratio=1)\n",
    ")\n",
    "\n",
    "# 显示图表\n",
    "fig.show()"
   ]
  }
 ],
 "metadata": {
  "kernelspec": {
   "display_name": "base",
   "language": "python",
   "name": "python3"
  },
  "language_info": {
   "codemirror_mode": {
    "name": "ipython",
    "version": 3
   },
   "file_extension": ".py",
   "mimetype": "text/x-python",
   "name": "python",
   "nbconvert_exporter": "python",
   "pygments_lexer": "ipython3",
   "version": "3.10.9"
  },
  "orig_nbformat": 4
 },
 "nbformat": 4,
 "nbformat_minor": 2
}
