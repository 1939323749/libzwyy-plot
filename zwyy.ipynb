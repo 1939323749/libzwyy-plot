{
 "cells": [
  {
   "cell_type": "code",
   "execution_count": null,
   "metadata": {},
   "outputs": [],
   "source": [
    "%pip install panel\n",
    "%pip install ipyvuetify"
   ]
  },
  {
   "cell_type": "code",
   "execution_count": null,
   "metadata": {},
   "outputs": [],
   "source": [
    "import requests\n",
    "import json\n",
    "import re\n",
    "import pandas as pd\n",
    "from datetime import datetime\n",
    "import matplotlib.pyplot as plt\n",
    "import numpy as np\n",
    "import plotly.graph_objs as go\n",
    "from plotly.subplots import make_subplots"
   ]
  },
  {
   "cell_type": "code",
   "execution_count": 116,
   "metadata": {},
   "outputs": [
    {
     "name": "stdout",
     "output_type": "stream",
     "text": [
      "您输入的内容是：\n"
     ]
    }
   ],
   "source": [
    "curl = input(\"请输入curl命令：\")"
   ]
  },
  {
   "cell_type": "code",
   "execution_count": null,
   "metadata": {},
   "outputs": [],
   "source": [
    "token_match = re.search(r'token:\\s*([a-zA-Z0-9]+)', curl)\n",
    "ic_cookie_match = re.search(r'ic-cookie=([a-zA-Z0-9-]+)', curl)\n",
    "token = token_match.group(1)\n",
    "ic_cookie = ic_cookie_match.group(1)"
   ]
  },
  {
   "cell_type": "code",
   "execution_count": null,
   "metadata": {},
   "outputs": [],
   "source": [
    "url = 'http://libzwyy.jlu.edu.cn/ic-web/reserve?roomIds=100652807&resvDates=20230627&sysKind=8'\n",
    "\n",
    "headers = {\n",
    "    'Host': 'libzwyy.jlu.edu.cn',\n",
    "    'Connection': 'keep-alive',\n",
    "    'Accept': 'application/json, text/plain, */*',\n",
    "    'lan': '1',\n",
    "    'token': token,\n",
    "    'User-Agent': 'Mozilla/5.0 (Macintosh; Intel Mac OS X 10_15_7) AppleWebKit/537.36 (KHTML, like Gecko) Chrome/114.0.0.0 Safari/537.36 Edg/114.0.1823.58',\n",
    "    'Referer': 'http://libzwyy.jlu.edu.cn/',\n",
    "    'Accept-Language': 'zh-CN,zh;q=0.9,en;q=0.8,en-GB;q=0.7,en-US;q=0.6'\n",
    "}\n",
    "\n",
    "cookies = {\n",
    "    'ic-cookie': ic_cookie,\n",
    "}\n",
    "\n",
    "response = requests.get(url, headers=headers, cookies=cookies)\n",
    "\n",
    "if response.status_code == 200:\n",
    "    data = json.loads(response.text)\n",
    "    devices_data = data[\"data\"]\n",
    "else:\n",
    "    print(f\"Error: Request failed with status code {response.status_code}\")"
   ]
  },
  {
   "cell_type": "code",
   "execution_count": null,
   "metadata": {},
   "outputs": [],
   "source": [
    "# 提取 devName、startTime 和 endTime\n",
    "table_data = []\n",
    "\n",
    "for device in devices_data:\n",
    "    dev_name = device[\"devName\"]\n",
    "    resv_info = device[\"resvInfo\"]\n",
    "    for resv in resv_info:\n",
    "        start_time = datetime.fromtimestamp(resv[\"startTime\"] / 1000).strftime('%Y-%m-%d %H:%M:%S')\n",
    "        end_time = datetime.fromtimestamp(resv[\"endTime\"] / 1000).strftime('%Y-%m-%d %H:%M:%S')\n",
    "        table_data.append([dev_name, start_time, end_time])"
   ]
  },
  {
   "cell_type": "code",
   "execution_count": null,
   "metadata": {},
   "outputs": [],
   "source": [
    "# 使用 pandas 创建 DataFrame\n",
    "columns = [\"devName\", \"startTime\", \"endTime\"]\n",
    "df = pd.DataFrame(table_data, columns=columns)"
   ]
  },
  {
   "cell_type": "code",
   "execution_count": null,
   "metadata": {},
   "outputs": [],
   "source": [
    "df[\"startTime\"] = pd.to_datetime(df[\"startTime\"])\n",
    "df[\"endTime\"] = pd.to_datetime(df[\"endTime\"])\n",
    "df['duration'] = (df['endTime'] - df['startTime']).dt.seconds / 3600"
   ]
  },
  {
   "cell_type": "code",
   "execution_count": null,
   "metadata": {},
   "outputs": [],
   "source": [
    "# 根据座位名称分组\n",
    "groups = df.groupby(\"devName\")\n",
    "\n",
    "dev_names = df['devName'].unique()\n",
    "name_to_index = {name: i for i, name in enumerate(dev_names)}\n",
    "\n",
    "# 创建散点图\n",
    "fig = go.Figure()\n",
    "\n",
    "for name, group in groups:\n",
    "    y_pos = name_to_index[name]\n",
    "    for start_time, end_time in zip(group['startTime'], group['endTime']):\n",
    "        fig.add_trace(\n",
    "            go.Scatter(\n",
    "                x=[start_time, end_time],\n",
    "                y=[y_pos, y_pos],\n",
    "                mode='lines',\n",
    "                line=dict(color='orange', width=10),\n",
    "                showlegend=False\n",
    "            )\n",
    "        )\n",
    "\n",
    "# 设置x轴和y轴\n",
    "fig.update_xaxes(title_text='时间', tickformat='%H:%M')\n",
    "fig.update_yaxes(title_text='座位', tickvals=list(range(len(dev_names))), ticktext=dev_names)\n",
    "\n",
    "# 设置布局\n",
    "fig.update_layout(\n",
    "    title='座位预约时间段分布',\n",
    "    autosize=False,\n",
    "    width=800,  # 调整图表宽度\n",
    "    height=2000,  # 调整图表高度\n",
    "    margin=dict(l=100, r=50, pad=4),\n",
    "    yaxis=dict(scaleanchor=\"x\", scaleratio=1)\n",
    ")\n",
    "\n",
    "# 显示图表\n",
    "fig.show()"
   ]
  },
  {
   "cell_type": "code",
   "execution_count": null,
   "metadata": {},
   "outputs": [],
   "source": [
    "from IPython.display import display\n",
    "import ipywidgets as widgets\n",
    "\n",
    "# 创建一个文本输入框\n",
    "input_box = widgets.Text(description='请输入内容：', continuous_update=False)\n",
    "\n",
    "# 创建一个按钮组件\n",
    "execute_button = widgets.Button(description='执行后续代码')\n",
    "\n",
    "# 显示输入框和按钮\n",
    "display(input_box)\n",
    "display(execute_button)\n",
    "\n",
    "# 定义按钮点击事件的处理函数\n",
    "def execute_next_cell(button):\n",
    "    global input_value\n",
    "    input_value = input_box.value\n",
    "\n",
    "# 将处理函数与按钮的点击事件关联\n",
    "execute_button.on_click(execute_next_cell)"
   ]
  },
  {
   "cell_type": "code",
   "execution_count": null,
   "metadata": {},
   "outputs": [],
   "source": [
    "print(f\"输入框的值是：{input_value}\")"
   ]
  }
 ],
 "metadata": {
  "kernelspec": {
   "display_name": "base",
   "language": "python",
   "name": "python3"
  },
  "language_info": {
   "codemirror_mode": {
    "name": "ipython",
    "version": 3
   },
   "file_extension": ".py",
   "mimetype": "text/x-python",
   "name": "python",
   "nbconvert_exporter": "python",
   "pygments_lexer": "ipython3",
   "version": "3.10.9"
  },
  "orig_nbformat": 4
 },
 "nbformat": 4,
 "nbformat_minor": 2
}
