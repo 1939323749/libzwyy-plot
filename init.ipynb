{
 "cells": [
  {
   "cell_type": "code",
   "execution_count": null,
   "metadata": {},
   "outputs": [],
   "source": [
    "import subprocess\n",
    "import time\n",
    "from selenium import webdriver\n",
    "from selenium.webdriver.common.proxy import Proxy, ProxyType\n",
    "from selenium.webdriver.common.keys import Keys\n",
    "from selenium.webdriver.common.by import By\n",
    "from selenium.webdriver.support.ui import WebDriverWait\n",
    "from selenium.webdriver.support import expected_conditions as EC"
   ]
  },
  {
   "cell_type": "code",
   "execution_count": null,
   "metadata": {},
   "outputs": [],
   "source": [
    "# 启动mitmproxy\n",
    "mitmproxy_process = subprocess.Popen([\"mitmdump\", \"-s\", \"a.py\"])\n",
    "\n",
    "# 配置Selenium WebDriver使用mitmproxy\n",
    "chrome_options = webdriver.ChromeOptions()\n",
    "chrome_options.add_argument('--proxy-server=http://localhost:8080')\n",
    "\n",
    "# 配置Chrome以信任mitmproxy证书\n",
    "chrome_options.add_argument('ignore-certificate-errors')\n",
    "\n",
    "# 创建一个新的Chrome浏览器实例\n",
    "driver = webdriver.Chrome(options=chrome_options)"
   ]
  },
  {
   "cell_type": "code",
   "execution_count": null,
   "metadata": {},
   "outputs": [],
   "source": [
    "# 启动mitmproxy\n",
    "mitmproxy_process = subprocess.Popen([\"mitmdump\", \"-s\", \"get_ic-cookie_token.py\"])\n",
    "\n",
    "# 配置Selenium WebDriver使用mitmproxy\n",
    "chrome_options = webdriver.ChromeOptions()\n",
    "chrome_options.add_argument('--proxy-server=http://localhost:8080')\n",
    "\n",
    "# 配置Chrome以信任mitmproxy证书\n",
    "chrome_options.add_argument('ignore-certificate-errors')\n",
    "\n",
    "# 创建一个新的Chrome浏览器实例\n",
    "driver = webdriver.Chrome(options=chrome_options)\n",
    "\n",
    "# 访问指定的URL\n",
    "driver.get(\"http://libzwyy.jlu.edu.cn/#/ic/home\")\n",
    "\n",
    "wait = WebDriverWait(driver, 10)\n"
   ]
  },
  {
   "attachments": {},
   "cell_type": "markdown",
   "metadata": {},
   "source": [
    "auth.txt:\n",
    "username:password"
   ]
  },
  {
   "cell_type": "code",
   "execution_count": null,
   "metadata": {},
   "outputs": [],
   "source": [
    "with open(\"auth.txt\", \"r\") as auth_file:\n",
    "    auth = auth_file.read()\n",
    "    username = auth.split(\":\")[0]\n",
    "    password = auth.split(\":\")[1]"
   ]
  },
  {
   "cell_type": "code",
   "execution_count": null,
   "metadata": {},
   "outputs": [],
   "source": [
    "# 找到HTML元素\n",
    "inputusername_element = wait.until(EC.presence_of_element_located((By.CSS_SELECTOR, \"#app > div.container > div.login-wrapp > div > div.content > form > div:nth-child(1) > div > div > input\")))\n",
    "inputpassword_element = wait.until(EC.presence_of_element_located((By.CSS_SELECTOR, \"#app > div.container > div.login-wrapp > div > div.content > form > div:nth-child(2) > div > div > input\")))\n",
    "\n",
    "# 输入内容\n",
    "inputusername_element.send_keys(username)\n",
    "inputpassword_element.send_keys(password)\n",
    "\n",
    "# 如果需要，您可以在这里添加其他操作，例如提交表单\n",
    "login_button = wait.until(EC.element_to_be_clickable((By.CSS_SELECTOR, \"#app > div.container > div.login-wrapp > div > div.content > form > div:nth-child(3) > div > button\")))\n",
    "login_button.click()"
   ]
  },
  {
   "cell_type": "code",
   "execution_count": null,
   "metadata": {},
   "outputs": [],
   "source": [
    "# 等待一段时间以确保mitmproxy捕获请求\n",
    "time.sleep(5)\n",
    "\n",
    "# 关闭浏览器实例\n",
    "driver.quit()\n",
    "\n",
    "# 停止mitmproxy\n",
    "mitmproxy_process.terminate()"
   ]
  }
 ],
 "metadata": {
  "kernelspec": {
   "display_name": "Python 3",
   "language": "python",
   "name": "python3"
  },
  "language_info": {
   "codemirror_mode": {
    "name": "ipython",
    "version": 3
   },
   "file_extension": ".py",
   "mimetype": "text/x-python",
   "name": "python",
   "nbconvert_exporter": "python",
   "pygments_lexer": "ipython3",
   "version": "3.10.9"
  },
  "orig_nbformat": 4
 },
 "nbformat": 4,
 "nbformat_minor": 2
}
